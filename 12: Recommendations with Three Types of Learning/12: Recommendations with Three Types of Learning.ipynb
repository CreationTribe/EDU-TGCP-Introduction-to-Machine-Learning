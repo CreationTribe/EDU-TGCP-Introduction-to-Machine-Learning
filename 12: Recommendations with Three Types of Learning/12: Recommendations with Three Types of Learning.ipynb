{
 "cells": [
  {
   "cell_type": "markdown",
   "metadata": {
    "collapsed": true,
    "pycharm": {
     "name": "#%% md\n"
    }
   },
   "source": [
    "A few things to lookup:\n",
    "* Collaborative Filtering\n",
    "* Singular Value Decomposition\n",
    "* Restricted Boltzman Machines\n",
    "* Cold Start Problem\n",
    "\n",
    "Problem Netflix came up against:\n",
    "How should a recommendation system balance making\n",
    "recommendations that it thinks are good for that person\n",
    "against exploratory recommendations aimed at discovering\n",
    "something important about the persons recommendations?\n",
    "\n",
    "K-Armed Bandit\n",
    "\n",
    "Epsilon Greedy approach\n",
    "\n",
    "Laplace Smoothing make an algorithm more robust when train with little data"
   ]
  },
  {
   "cell_type": "code",
   "execution_count": 1,
   "outputs": [
    {
     "name": "stdout",
     "output_type": "stream",
     "text": [
      "--2021-01-25 12:04:53--  https://github.com/mlittmancs/great_courses_ml/raw/master/data/vocab2.txt\r\n",
      "Resolving github.com (github.com)... 192.30.255.113\r\n",
      "Connecting to github.com (github.com)|192.30.255.113|:443... connected.\r\n",
      "HTTP request sent, awaiting response... 302 Found\r\n",
      "Location: https://raw.githubusercontent.com/mlittmancs/great_courses_ml/master/data/vocab2.txt [following]\r\n",
      "--2021-01-25 12:04:54--  https://raw.githubusercontent.com/mlittmancs/great_courses_ml/master/data/vocab2.txt\r\n",
      "Resolving raw.githubusercontent.com (raw.githubusercontent.com)... 151.101.40.133\r\n",
      "Connecting to raw.githubusercontent.com (raw.githubusercontent.com)|151.101.40.133|:443... connected.\r\n",
      "HTTP request sent, awaiting response... 200 OK\r\n",
      "Length: 134845 (132K) [text/plain]\r\n",
      "Saving to: ‘vocab2.txt’\r\n",
      "\r\n",
      "vocab2.txt          100%[===================>] 131.68K  --.-KB/s    in 0.08s   \r\n",
      "\r\n",
      "2021-01-25 12:04:54 (1.56 MB/s) - ‘vocab2.txt’ saved [134845/134845]\r\n",
      "\r\n",
      "--2021-01-25 12:04:55--  https://github.com/mlittmancs/great_courses_ml/raw/master/data/cb.txt\r\n",
      "Resolving github.com (github.com)... 192.30.255.113\r\n",
      "Connecting to github.com (github.com)|192.30.255.113|:443... connected.\r\n",
      "HTTP request sent, awaiting response... 302 Found\r\n",
      "Location: https://raw.githubusercontent.com/mlittmancs/great_courses_ml/master/data/cb.txt [following]\r\n",
      "--2021-01-25 12:04:55--  https://raw.githubusercontent.com/mlittmancs/great_courses_ml/master/data/cb.txt\r\n",
      "Resolving raw.githubusercontent.com (raw.githubusercontent.com)... 151.101.40.133\r\n",
      "Connecting to raw.githubusercontent.com (raw.githubusercontent.com)|151.101.40.133|:443... connected.\r\n",
      "HTTP request sent, awaiting response... 200 OK\r\n",
      "Length: 820122 (801K) [text/plain]\r\n",
      "Saving to: ‘cb.txt’\r\n",
      "\r\n",
      "cb.txt              100%[===================>] 800.90K  4.68MB/s    in 0.2s    \r\n",
      "\r\n",
      "2021-01-25 12:04:55 (4.68 MB/s) - ‘cb.txt’ saved [820122/820122]\r\n",
      "\r\n"
     ]
    }
   ],
   "source": [
    "!wget https://github.com/mlittmancs/great_courses_ml/raw/master/data/vocab2.txt\n",
    "!wget https://github.com/mlittmancs/great_courses_ml/raw/master/data/cb.txt"
   ],
   "metadata": {
    "collapsed": false,
    "pycharm": {
     "name": "#%%\n"
    }
   }
  },
  {
   "cell_type": "code",
   "execution_count": 29,
   "outputs": [],
   "source": [
    "# read in the vocabulary file\n",
    "def readvocab():\n",
    "   # keep track of the number of words\n",
    "    lexiconsize = 0\n",
    "   # initialize an empty dictionary\n",
    "    vocab_dict = {}\n",
    "   # create a catch-all feature (vector component) for all unknown words\n",
    "    vocab_dict[\"@unk\"] = lexiconsize\n",
    "    lexiconsize += 1\n",
    "   # read in the vocabulary file\n",
    "    with open(\"vocab2.txt\", \"r\") as f:\n",
    "        data = f.readlines()\n",
    "   # Process the file a line at a time.\n",
    "    for line in data:\n",
    "        # The count is the first 3 characters\n",
    "        count = int(line[0:4])\n",
    "        # The word is the rest of the string\n",
    "        token = line[5:-1]\n",
    "       # Create a feature if it’s appeared at least twice\n",
    "        if count > 1:\n",
    "            vocab_dict[token] = lexiconsize\n",
    "            lexiconsize += 1\n",
    "    # squirrel away the total size for later reference\n",
    "    vocab_dict[\"@size\"] = lexiconsize\n",
    "    return(vocab_dict)\n",
    "\n",
    "vocab_dict = readvocab()"
   ],
   "metadata": {
    "collapsed": false,
    "pycharm": {
     "name": "#%%\n"
    }
   }
  },
  {
   "cell_type": "code",
   "execution_count": 30,
   "outputs": [],
   "source": [
    "# Turn string str into a vector.\n",
    "def tokenize(string, vocab_dict):\n",
    "  # initially the vector is all zeros\n",
    "  vec = [0 for i in range(vocab_dict[\"@size\"])]\n",
    "  # for each word\n",
    "  for t in string.split(\" \"):\n",
    "   # if the word has a feature, add one to the corresponding feature\n",
    "    if t in vocab_dict: vec[vocab_dict[t]] += 1\n",
    "   # otherwise, count it as an unk\n",
    "    else: vec[vocab_dict[\"@unk\"]] += 1\n",
    "  return(vec)"
   ],
   "metadata": {
    "collapsed": false,
    "pycharm": {
     "name": "#%%\n"
    }
   }
  },
  {
   "cell_type": "code",
   "execution_count": 31,
   "outputs": [],
   "source": [
    "# read in labeled examples and turn the strings into vectors\n",
    "def getdat(vocab_dict):\n",
    "    with open(\"cb.txt\", \"r\") as f:\n",
    "        data = f.readlines()\n",
    "    dat = []\n",
    "    labs = []\n",
    "    for line in data:\n",
    "        labs = labs + [int(line[0])]\n",
    "        dat = dat + [tokenize(line[2:], vocab_dict)]\n",
    "    return(dat, labs)\n",
    "\n",
    "(dat, labs) = getdat(vocab_dict)"
   ],
   "metadata": {
    "collapsed": false,
    "pycharm": {
     "name": "#%%\n"
    }
   }
  },
  {
   "cell_type": "code",
   "execution_count": 32,
   "outputs": [],
   "source": [
    "import random\n",
    "from sklearn.naive_bayes import MultinomialNB\n",
    "\n",
    "def playgame(chooser, rounds, alpha):\n",
    "  curitem = 0\n",
    "  score = 0\n",
    "  trainset = []\n",
    "  trainlabs = []\n",
    "  b = 5\n",
    "\n",
    "  while curitem < rounds:\n",
    "    chosenitem = chooser(curitem, b, trainset, trainlabs, alpha)\n",
    "    score = score + labs[chosenitem]\n",
    "    trainset = trainset + [dat[chosenitem]]\n",
    "    trainlabs = trainlabs + [labs[chosenitem]]\n",
    "    curitem += b\n",
    "  return(score)"
   ],
   "metadata": {
    "collapsed": false,
    "pycharm": {
     "name": "#%%\n"
    }
   }
  },
  {
   "cell_type": "code",
   "execution_count": 33,
   "outputs": [],
   "source": [
    "def argmax(indices, vals):\n",
    " best = max(vals)\n",
    " for i in range(len(indices)):\n",
    "   if vals[i] == best:\n",
    "     return(indices[i])"
   ],
   "metadata": {
    "collapsed": false,
    "pycharm": {
     "name": "#%%\n"
    }
   }
  },
  {
   "cell_type": "code",
   "execution_count": 34,
   "outputs": [],
   "source": [
    "def probachooser(curitem, b, trainset, trainlabs, alpha):\n",
    "  if len(trainset) == 0:\n",
    "    chosenitem = random.randint(curitem,curitem+b-1)\n",
    "  else:\n",
    "    clf = MultinomialNB(alpha=alpha)\n",
    "    clf = clf.fit(trainset, trainlabs)\n",
    "    yhat = clf.predict_proba(dat[curitem:(curitem+b)])\n",
    "    chosenitem = argmax(range(curitem,curitem+b), [p for (c,p) in yhat])\n",
    "\n",
    "  return(chosenitem)"
   ],
   "metadata": {
    "collapsed": false,
    "pycharm": {
     "name": "#%%\n"
    }
   }
  },
  {
   "cell_type": "code",
   "execution_count": 37,
   "outputs": [
    {
     "name": "stdout",
     "output_type": "stream",
     "text": [
      "Processing 5e-05\n",
      "Processing 0.0001\n",
      "Processing 0.0002\n",
      "Processing 0.0005\n",
      "Processing 0.001\n",
      "Processing 0.002\n",
      "Processing 0.005\n",
      "Processing 0.01\n",
      "Processing 0.02\n",
      "Processing 0.05\n",
      "Processing 0.1\n",
      "Processing 0.2\n",
      "Processing 0.5\n",
      "Processing 1.0\n"
     ]
    }
   ],
   "source": [
    "# alphas = range(10,200,5)\n",
    "# ress = []\n",
    "# for alpha in alphas:\n",
    "#   res = playgame(probachooser, 1000, alpha)\n",
    "#   ress += [res]\n",
    "\n",
    "rep = 10\n",
    "alphas = [0.00005, 0.0001, 0.0002, 0.0005, 0.001, 0.002, 0.005, 0.01, 0.02, 0.05, 0.1, 0.2, 0.5, 1.0]\n",
    "ress = []\n",
    "mins = []\n",
    "maxs = []\n",
    "for alpha in alphas:\n",
    "  print(\"Processing \" + str(alpha))\n",
    "  total = 0\n",
    "  res = []\n",
    "  for i in range(rep):\n",
    "    res += [playgame(probachooser, 1000, alpha)]\n",
    "  ress += [sum(res)/rep]\n",
    "  mins += [min(res)]\n",
    "  maxs += [max(res)]"
   ],
   "metadata": {
    "collapsed": false,
    "pycharm": {
     "name": "#%%\n"
    }
   }
  },
  {
   "cell_type": "code",
   "execution_count": 38,
   "outputs": [
    {
     "data": {
      "text/plain": "<Figure size 432x288 with 1 Axes>",
      "image/png": "[encoded data removed]"
     },
     "metadata": {
      "needs_background": "light"
     },
     "output_type": "display_data"
    }
   ],
   "source": [
    "import matplotlib.pyplot as plt\n",
    "\n",
    "plt.scatter(alphas,ress)\n",
    "plt.plot(alphas,ress)\n",
    "plt.show()"
   ],
   "metadata": {
    "collapsed": false,
    "pycharm": {
     "name": "#%%\n"
    }
   }
  },
  {
   "cell_type": "markdown",
   "source": [
    "\n",
    "DUDE - WHAT IS HAPPENING IN THE VIDEOS?\n",
    "\n",
    "The code doesn't run half the time and I have to hack it all up. This time it's just way too fucked print(up..)"
   ],
   "metadata": {
    "collapsed": false,
    "pycharm": {
     "name": "#%% md\n"
    }
   }
  },
  {
   "cell_type": "code",
   "execution_count": null,
   "outputs": [],
   "source": [
    "grid_square = input_image[X*256:(X+1)*256,Y*256:(Y+1)*256]\n",
    "\n",
    "rows = input_image.shape[0]/256\n",
    "cols = input_image.shape[1]/256"
   ],
   "metadata": {
    "collapsed": false,
    "pycharm": {
     "name": "#%%\n"
    }
   }
  }
 ],
 "metadata": {
  "kernelspec": {
   "display_name": "Python 3",
   "language": "python",
   "name": "python3"
  },
  "language_info": {
   "codemirror_mode": {
    "name": "ipython",
    "version": 2
   },
   "file_extension": ".py",
   "mimetype": "text/x-python",
   "name": "python",
   "nbconvert_exporter": "python",
   "pygments_lexer": "ipython2",
   "version": "2.7.6"
  }
 },
 "nbformat": 4,
 "nbformat_minor": 0
}
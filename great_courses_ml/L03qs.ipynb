{
 "nbformat": 4,
 "nbformat_minor": 0,
 "metadata": {
  "colab": {
   "name": "L03qs.ipynb",
   "provenance": [],
   "collapsed_sections": []
  },
  "language_info": {
   "codemirror_mode": {
    "name": "ipython",
    "version": 3
   },
   "file_extension": ".py",
   "mimetype": "text/x-python",
   "name": "python",
   "nbconvert_exporter": "python",
   "pygments_lexer": "ipython3",
   "version": "3.6.8"
  },
  "kernelspec": {
   "display_name": "Python 3",
   "language": "python",
   "name": "python3"
  }
 },
 "cells": [
  {
   "cell_type": "markdown",
   "metadata": {
    "id": "GpvV_AujsZiy",
    "colab_type": "text"
   },
   "source": [
    "Consider running the decision-tree algorithm on the diabetes data with the goal of producing trees with more and more leaves. When the tree has 20 leaves, what do you think about the rule that is learned? Is it easy to understand? Do you think it is likely to generalize well to new instances?"
   ]
  },
  {
   "cell_type": "code",
   "metadata": {
    "id": "SRuv4R9-hMbC",
    "colab_type": "code",
    "colab": {},
    "executionInfo": {
     "status": "ok",
     "timestamp": 1593645176064,
     "user_tz": 240,
     "elapsed": 1632,
     "user": {
      "displayName": "Michael Littman",
      "photoUrl": "https://lh3.googleusercontent.com/a-/AOh14Gh1OI1zp1NevMSZ87UN47k8bTZ--Ijr4v3ORV33Vg=s64",
      "userId": "06751891446459829367"
     }
    }
   },
   "source": [
    "from sklearn import tree\n",
    "import graphviz\n",
    "import random\n",
    "import matplotlib.pyplot as plt"
   ],
   "execution_count": 1,
   "outputs": []
  },
  {
   "cell_type": "markdown",
   "metadata": {
    "id": "TgW4kceYvRQ0",
    "colab_type": "text"
   },
   "source": [
    "We download the data from plotly."
   ]
  },
  {
   "cell_type": "code",
   "metadata": {
    "id": "tRrhV7O9qhG2",
    "colab_type": "code",
    "colab": {
     "base_uri": "https://localhost:8080/",
     "height": 204
    },
    "executionInfo": {
     "status": "ok",
     "timestamp": 1593645182076,
     "user_tz": 240,
     "elapsed": 7630,
     "user": {
      "displayName": "Michael Littman",
      "photoUrl": "https://lh3.googleusercontent.com/a-/AOh14Gh1OI1zp1NevMSZ87UN47k8bTZ--Ijr4v3ORV33Vg=s64",
      "userId": "06751891446459829367"
     }
    },
    "outputId": "9427e0be-1f06-4b55-8168-2adea23845fb"
   },
   "source": [
    "!wget https://raw.githubusercontent.com/plotly/datasets/master/diabetes.csv"
   ],
   "execution_count": 2,
   "outputs": [
    {
     "name": "stdout",
     "output_type": "stream",
     "text": [
      "--2020-12-04 11:06:37--  https://raw.githubusercontent.com/plotly/datasets/master/diabetes.csv\r\n",
      "Resolving raw.githubusercontent.com (raw.githubusercontent.com)... 151.101.40.133\r\n",
      "Connecting to raw.githubusercontent.com (raw.githubusercontent.com)|151.101.40.133|:443... connected.\r\n",
      "HTTP request sent, awaiting response... 200 OK\r\n",
      "Length: 23873 (23K) [text/plain]\r\n",
      "Saving to: ‘diabetes.csv’\r\n",
      "\r\n",
      "diabetes.csv        100%[===================>]  23.31K  --.-KB/s    in 0.004s  \r\n",
      "\r\n",
      "2020-12-04 11:06:37 (5.08 MB/s) - ‘diabetes.csv’ saved [23873/23873]\r\n",
      "\r\n"
     ]
    }
   ]
  },
  {
   "cell_type": "markdown",
   "metadata": {
    "id": "W-N5tYJ5yUkH",
    "colab_type": "text"
   },
   "source": [
    "Next, we'll manually process the data from its comma separated value (csv) format"
   ]
  },
  {
   "cell_type": "code",
   "metadata": {
    "id": "WqdKcoMTD18H",
    "colab_type": "code",
    "colab": {},
    "executionInfo": {
     "status": "ok",
     "timestamp": 1593645182077,
     "user_tz": 240,
     "elapsed": 7628,
     "user": {
      "displayName": "Michael Littman",
      "photoUrl": "https://lh3.googleusercontent.com/a-/AOh14Gh1OI1zp1NevMSZ87UN47k8bTZ--Ijr4v3ORV33Vg=s64",
      "userId": "06751891446459829367"
     }
    }
   },
   "source": [
    "with open(\"diabetes.csv\", \"r\") as f:\n",
    "    data = f.readlines()\n",
    "feats = data[0]\n",
    "feats = feats.replace('\\n','')\n",
    "feats = feats.split(\",\")\n",
    "feats = feats[0:(len(feats)-1)]\n",
    "alldat = []\n",
    "alllabs = []\n",
    "for i in range(1,len(data)):\n",
    "     line = data[i]\n",
    "     line = line.replace('\\n','')\n",
    "     csvline = line.split(\",\")\n",
    "     alllabs = alllabs + [int(csvline[len(csvline)-1])]\n",
    "     csvline = [float(csvline[i]) for i in range(len(csvline)-1)]\n",
    "     alldat = alldat + [csvline]"
   ],
   "execution_count": 3,
   "outputs": []
  },
  {
   "cell_type": "markdown",
   "metadata": {
    "id": "a2Yg2YLb3Rz_",
    "colab_type": "text"
   },
   "source": [
    "We next will create a `trainmask` and use it to create the train, test data."
   ]
  },
  {
   "cell_type": "code",
   "metadata": {
    "id": "iRDT41Zq3Qmo",
    "colab_type": "code",
    "colab": {},
    "executionInfo": {
     "status": "ok",
     "timestamp": 1593645436054,
     "user_tz": 240,
     "elapsed": 868,
     "user": {
      "displayName": "Michael Littman",
      "photoUrl": "https://lh3.googleusercontent.com/a-/AOh14Gh1OI1zp1NevMSZ87UN47k8bTZ--Ijr4v3ORV33Vg=s64",
      "userId": "06751891446459829367"
     }
    }
   },
   "source": [
    "trainmask = [random.randint(0,2) for i in range(len(alldat))]\n",
    "\n",
    "traindat = [alldat[i] for i in range(len(alldat)) if trainmask[i]]\n",
    "trainlabs = [alllabs[i] for i in range(len(alldat)) if trainmask[i]]\n",
    "testdat = [alldat[i] for i in range(len(alldat)) if not trainmask[i]]\n",
    "testlabs = [alllabs[i] for i in range(len(alldat)) if not trainmask[i]]"
   ],
   "execution_count": 4,
   "outputs": []
  },
  {
   "cell_type": "markdown",
   "metadata": {
    "id": "e67tly6Ky3ZY",
    "colab_type": "text"
   },
   "source": [
    "Using scikit-learn, a machine-learning library in Python, we'll train a decision tree with 20 decision rules and fit it to our data and labels."
   ]
  },
  {
   "cell_type": "code",
   "metadata": {
    "id": "UtT86_hiFsef",
    "colab_type": "code",
    "colab": {},
    "executionInfo": {
     "status": "ok",
     "timestamp": 1593645458464,
     "user_tz": 240,
     "elapsed": 706,
     "user": {
      "displayName": "Michael Littman",
      "photoUrl": "https://lh3.googleusercontent.com/a-/AOh14Gh1OI1zp1NevMSZ87UN47k8bTZ--Ijr4v3ORV33Vg=s64",
      "userId": "06751891446459829367"
     }
    }
   },
   "source": [
    "clf = tree.DecisionTreeClassifier(max_leaf_nodes = 20)\n",
    "clf = clf.fit(traindat, trainlabs)"
   ],
   "execution_count": 5,
   "outputs": []
  },
  {
   "cell_type": "markdown",
   "metadata": {
    "id": "OTsW65XazMob",
    "colab_type": "text"
   },
   "source": [
    "Finally, we'll visualize our decision tree"
   ]
  },
  {
   "cell_type": "code",
   "metadata": {
    "id": "f2t4dTDlF3Ru",
    "colab_type": "code",
    "colab": {
     "base_uri": "https://localhost:8080/",
     "height": 1000
    },
    "executionInfo": {
     "status": "ok",
     "timestamp": 1593645462661,
     "user_tz": 240,
     "elapsed": 937,
     "user": {
      "displayName": "Michael Littman",
      "photoUrl": "https://lh3.googleusercontent.com/a-/AOh14Gh1OI1zp1NevMSZ87UN47k8bTZ--Ijr4v3ORV33Vg=s64",
      "userId": "06751891446459829367"
     }
    },
    "outputId": "8edb11a9-2638-45f0-e18f-9d9211cfad91"
   },
   "source": [
    "dot_data = tree.export_graphviz(clf, feature_names=feats,\n",
    "                      filled=True, rounded=True)\n",
    "graph = graphviz.Source(dot_data)\n",
    "graph"
   ],
   "execution_count": 6,
   "outputs": [
    {
     "data": {
      "text/plain": "<graphviz.files.Source at 0x7f2b875b1970>",
      "image/svg+xml": "<?xml version=\"1.0\" encoding=\"UTF-8\" standalone=\"no\"?>\n<!DOCTYPE svg PUBLIC \"-//W3C//DTD SVG 1.1//EN\"\n \"http://www.w3.org/Graphics/SVG/1.1/DTD/svg11.dtd\">\n<!-- Generated by graphviz version 2.42.3 (20191010.1750)\n -->\n<!-- Title: Tree Pages: 1 -->\n<svg width=\"1571pt\" height=\"789pt\"\n viewBox=\"0.00 0.00 1570.50 789.00\" xmlns=\"http://www.w3.org/2000/svg\" xmlns:xlink=\"http://www.w3.org/1999/xlink\">\n<g id=\"graph0\" class=\"graph\" transform=\"scale(1 1) rotate(0) translate(4 785)\">\n<title>Tree</title>\n<polygon fill=\"white\" stroke=\"transparent\" points=\"-4,4 -4,-785 1566.5,-785 1566.5,4 -4,4\"/>\n<!-- 0 -->\n<g id=\"node1\" class=\"node\">\n<title>0</title>\n<path fill=\"#f2c09c\" stroke=\"black\" d=\"M1028.5,-781C1028.5,-781 927.5,-781 927.5,-781 921.5,-781 915.5,-775 915.5,-769 915.5,-769 915.5,-725 915.5,-725 915.5,-719 921.5,-713 927.5,-713 927.5,-713 1028.5,-713 1028.5,-713 1034.5,-713 1040.5,-719 1040.5,-725 1040.5,-725 1040.5,-769 1040.5,-769 1040.5,-775 1034.5,-781 1028.5,-781\"/>\n<text text-anchor=\"middle\" x=\"978\" y=\"-765.8\" font-family=\"Helvetica,sans-Serif\" font-size=\"14.00\">Glucose &lt;= 144.5</text>\n<text text-anchor=\"middle\" x=\"978\" y=\"-750.8\" font-family=\"Helvetica,sans-Serif\" font-size=\"14.00\">gini = 0.445</text>\n<text text-anchor=\"middle\" x=\"978\" y=\"-735.8\" font-family=\"Helvetica,sans-Serif\" font-size=\"14.00\">samples = 503</text>\n<text text-anchor=\"middle\" x=\"978\" y=\"-720.8\" font-family=\"Helvetica,sans-Serif\" font-size=\"14.00\">value = [335, 168]</text>\n</g>\n<!-- 1 -->\n<g id=\"node2\" class=\"node\">\n<title>1</title>\n<path fill=\"#eca571\" stroke=\"black\" d=\"M764.5,-677C764.5,-677 663.5,-677 663.5,-677 657.5,-677 651.5,-671 651.5,-665 651.5,-665 651.5,-621 651.5,-621 651.5,-615 657.5,-609 663.5,-609 663.5,-609 764.5,-609 764.5,-609 770.5,-609 776.5,-615 776.5,-621 776.5,-621 776.5,-665 776.5,-665 776.5,-671 770.5,-677 764.5,-677\"/>\n<text text-anchor=\"middle\" x=\"714\" y=\"-661.8\" font-family=\"Helvetica,sans-Serif\" font-size=\"14.00\">Glucose &lt;= 106.5</text>\n<text text-anchor=\"middle\" x=\"714\" y=\"-646.8\" font-family=\"Helvetica,sans-Serif\" font-size=\"14.00\">gini = 0.344</text>\n<text text-anchor=\"middle\" x=\"714\" y=\"-631.8\" font-family=\"Helvetica,sans-Serif\" font-size=\"14.00\">samples = 389</text>\n<text text-anchor=\"middle\" x=\"714\" y=\"-616.8\" font-family=\"Helvetica,sans-Serif\" font-size=\"14.00\">value = [303, 86]</text>\n</g>\n<!-- 0&#45;&gt;1 -->\n<g id=\"edge1\" class=\"edge\">\n<title>0&#45;&gt;1</title>\n<path fill=\"none\" stroke=\"black\" d=\"M915.44,-721.83C876.62,-706.83 826.6,-687.5 786.11,-671.86\"/>\n<polygon fill=\"black\" stroke=\"black\" points=\"787.16,-668.51 776.57,-668.18 784.64,-675.04 787.16,-668.51\"/>\n<text text-anchor=\"middle\" x=\"786.69\" y=\"-687.34\" font-family=\"Helvetica,sans-Serif\" font-size=\"14.00\">True</text>\n</g>\n<!-- 2 -->\n<g id=\"node29\" class=\"node\">\n<title>2</title>\n<path fill=\"#86c3ef\" stroke=\"black\" d=\"M1247.5,-677C1247.5,-677 1146.5,-677 1146.5,-677 1140.5,-677 1134.5,-671 1134.5,-665 1134.5,-665 1134.5,-621 1134.5,-621 1134.5,-615 1140.5,-609 1146.5,-609 1146.5,-609 1247.5,-609 1247.5,-609 1253.5,-609 1259.5,-615 1259.5,-621 1259.5,-621 1259.5,-665 1259.5,-665 1259.5,-671 1253.5,-677 1247.5,-677\"/>\n<text text-anchor=\"middle\" x=\"1197\" y=\"-661.8\" font-family=\"Helvetica,sans-Serif\" font-size=\"14.00\">Glucose &lt;= 154.5</text>\n<text text-anchor=\"middle\" x=\"1197\" y=\"-646.8\" font-family=\"Helvetica,sans-Serif\" font-size=\"14.00\">gini = 0.404</text>\n<text text-anchor=\"middle\" x=\"1197\" y=\"-631.8\" font-family=\"Helvetica,sans-Serif\" font-size=\"14.00\">samples = 114</text>\n<text text-anchor=\"middle\" x=\"1197\" y=\"-616.8\" font-family=\"Helvetica,sans-Serif\" font-size=\"14.00\">value = [32, 82]</text>\n</g>\n<!-- 0&#45;&gt;2 -->\n<g id=\"edge28\" class=\"edge\">\n<title>0&#45;&gt;2</title>\n<path fill=\"none\" stroke=\"black\" d=\"M1040.76,-716.77C1067.1,-704.5 1097.89,-690.16 1125.14,-677.47\"/>\n<polygon fill=\"black\" stroke=\"black\" points=\"1126.65,-680.63 1134.23,-673.23 1123.69,-674.28 1126.65,-680.63\"/>\n<text text-anchor=\"middle\" x=\"1125.67\" y=\"-693.02\" font-family=\"Helvetica,sans-Serif\" font-size=\"14.00\">False</text>\n</g>\n<!-- 3 -->\n<g id=\"node3\" class=\"node\">\n<title>3</title>\n<path fill=\"#e88e4e\" stroke=\"black\" d=\"M403.5,-573C403.5,-573 310.5,-573 310.5,-573 304.5,-573 298.5,-567 298.5,-561 298.5,-561 298.5,-517 298.5,-517 298.5,-511 304.5,-505 310.5,-505 310.5,-505 403.5,-505 403.5,-505 409.5,-505 415.5,-511 415.5,-517 415.5,-517 415.5,-561 415.5,-561 415.5,-567 409.5,-573 403.5,-573\"/>\n<text text-anchor=\"middle\" x=\"357\" y=\"-557.8\" font-family=\"Helvetica,sans-Serif\" font-size=\"14.00\">BMI &lt;= 32.85</text>\n<text text-anchor=\"middle\" x=\"357\" y=\"-542.8\" font-family=\"Helvetica,sans-Serif\" font-size=\"14.00\">gini = 0.171</text>\n<text text-anchor=\"middle\" x=\"357\" y=\"-527.8\" font-family=\"Helvetica,sans-Serif\" font-size=\"14.00\">samples = 191</text>\n<text text-anchor=\"middle\" x=\"357\" y=\"-512.8\" font-family=\"Helvetica,sans-Serif\" font-size=\"14.00\">value = [173, 18]</text>\n</g>\n<!-- 1&#45;&gt;3 -->\n<g id=\"edge2\" class=\"edge\">\n<title>1&#45;&gt;3</title>\n<path fill=\"none\" stroke=\"black\" d=\"M651.41,-624.12C588.16,-606.05 490.72,-578.2 425.45,-559.56\"/>\n<polygon fill=\"black\" stroke=\"black\" points=\"426.24,-556.14 415.67,-556.76 424.32,-562.87 426.24,-556.14\"/>\n</g>\n<!-- 4 -->\n<g id=\"node10\" class=\"node\">\n<title>4</title>\n<path fill=\"#f3c3a1\" stroke=\"black\" d=\"M760.5,-573C760.5,-573 667.5,-573 667.5,-573 661.5,-573 655.5,-567 655.5,-561 655.5,-561 655.5,-517 655.5,-517 655.5,-511 661.5,-505 667.5,-505 667.5,-505 760.5,-505 760.5,-505 766.5,-505 772.5,-511 772.5,-517 772.5,-517 772.5,-561 772.5,-561 772.5,-567 766.5,-573 760.5,-573\"/>\n<text text-anchor=\"middle\" x=\"714\" y=\"-557.8\" font-family=\"Helvetica,sans-Serif\" font-size=\"14.00\">Age &lt;= 28.5</text>\n<text text-anchor=\"middle\" x=\"714\" y=\"-542.8\" font-family=\"Helvetica,sans-Serif\" font-size=\"14.00\">gini = 0.451</text>\n<text text-anchor=\"middle\" x=\"714\" y=\"-527.8\" font-family=\"Helvetica,sans-Serif\" font-size=\"14.00\">samples = 198</text>\n<text text-anchor=\"middle\" x=\"714\" y=\"-512.8\" font-family=\"Helvetica,sans-Serif\" font-size=\"14.00\">value = [130, 68]</text>\n</g>\n<!-- 1&#45;&gt;4 -->\n<g id=\"edge9\" class=\"edge\">\n<title>1&#45;&gt;4</title>\n<path fill=\"none\" stroke=\"black\" d=\"M714,-608.88C714,-600.78 714,-591.98 714,-583.47\"/>\n<polygon fill=\"black\" stroke=\"black\" points=\"717.5,-583.3 714,-573.3 710.5,-583.3 717.5,-583.3\"/>\n</g>\n<!-- 17 -->\n<g id=\"node4\" class=\"node\">\n<title>17</title>\n<path fill=\"#e5833c\" stroke=\"black\" d=\"M219,-469C219,-469 133,-469 133,-469 127,-469 121,-463 121,-457 121,-457 121,-413 121,-413 121,-407 127,-401 133,-401 133,-401 219,-401 219,-401 225,-401 231,-407 231,-413 231,-413 231,-457 231,-457 231,-463 225,-469 219,-469\"/>\n<text text-anchor=\"middle\" x=\"176\" y=\"-453.8\" font-family=\"Helvetica,sans-Serif\" font-size=\"14.00\">Age &lt;= 60.0</text>\n<text text-anchor=\"middle\" x=\"176\" y=\"-438.8\" font-family=\"Helvetica,sans-Serif\" font-size=\"14.00\">gini = 0.034</text>\n<text text-anchor=\"middle\" x=\"176\" y=\"-423.8\" font-family=\"Helvetica,sans-Serif\" font-size=\"14.00\">samples = 116</text>\n<text text-anchor=\"middle\" x=\"176\" y=\"-408.8\" font-family=\"Helvetica,sans-Serif\" font-size=\"14.00\">value = [114, 2]</text>\n</g>\n<!-- 3&#45;&gt;17 -->\n<g id=\"edge3\" class=\"edge\">\n<title>3&#45;&gt;17</title>\n<path fill=\"none\" stroke=\"black\" d=\"M298.23,-504.88C279.61,-494.39 258.93,-482.74 239.96,-472.04\"/>\n<polygon fill=\"black\" stroke=\"black\" points=\"241.52,-468.91 231.09,-467.05 238.09,-475.01 241.52,-468.91\"/>\n</g>\n<!-- 18 -->\n<g id=\"node7\" class=\"node\">\n<title>18</title>\n<path fill=\"#eca36f\" stroke=\"black\" d=\"M400,-469C400,-469 314,-469 314,-469 308,-469 302,-463 302,-457 302,-457 302,-413 302,-413 302,-407 308,-401 314,-401 314,-401 400,-401 400,-401 406,-401 412,-407 412,-413 412,-413 412,-457 412,-457 412,-463 406,-469 400,-469\"/>\n<text text-anchor=\"middle\" x=\"357\" y=\"-453.8\" font-family=\"Helvetica,sans-Serif\" font-size=\"14.00\">BMI &lt;= 33.0</text>\n<text text-anchor=\"middle\" x=\"357\" y=\"-438.8\" font-family=\"Helvetica,sans-Serif\" font-size=\"14.00\">gini = 0.336</text>\n<text text-anchor=\"middle\" x=\"357\" y=\"-423.8\" font-family=\"Helvetica,sans-Serif\" font-size=\"14.00\">samples = 75</text>\n<text text-anchor=\"middle\" x=\"357\" y=\"-408.8\" font-family=\"Helvetica,sans-Serif\" font-size=\"14.00\">value = [59, 16]</text>\n</g>\n<!-- 3&#45;&gt;18 -->\n<g id=\"edge6\" class=\"edge\">\n<title>3&#45;&gt;18</title>\n<path fill=\"none\" stroke=\"black\" d=\"M357,-504.88C357,-496.78 357,-487.98 357,-479.47\"/>\n<polygon fill=\"black\" stroke=\"black\" points=\"360.5,-479.3 357,-469.3 353.5,-479.3 360.5,-479.3\"/>\n</g>\n<!-- 35 -->\n<g id=\"node5\" class=\"node\">\n<title>35</title>\n<path fill=\"#e5823b\" stroke=\"black\" d=\"M98,-357.5C98,-357.5 12,-357.5 12,-357.5 6,-357.5 0,-351.5 0,-345.5 0,-345.5 0,-316.5 0,-316.5 0,-310.5 6,-304.5 12,-304.5 12,-304.5 98,-304.5 98,-304.5 104,-304.5 110,-310.5 110,-316.5 110,-316.5 110,-345.5 110,-345.5 110,-351.5 104,-357.5 98,-357.5\"/>\n<text text-anchor=\"middle\" x=\"55\" y=\"-342.3\" font-family=\"Helvetica,sans-Serif\" font-size=\"14.00\">gini = 0.017</text>\n<text text-anchor=\"middle\" x=\"55\" y=\"-327.3\" font-family=\"Helvetica,sans-Serif\" font-size=\"14.00\">samples = 115</text>\n<text text-anchor=\"middle\" x=\"55\" y=\"-312.3\" font-family=\"Helvetica,sans-Serif\" font-size=\"14.00\">value = [114, 1]</text>\n</g>\n<!-- 17&#45;&gt;35 -->\n<g id=\"edge4\" class=\"edge\">\n<title>17&#45;&gt;35</title>\n<path fill=\"none\" stroke=\"black\" d=\"M136.71,-400.88C122.76,-389.12 107.07,-375.89 93.2,-364.2\"/>\n<polygon fill=\"black\" stroke=\"black\" points=\"95.18,-361.29 85.27,-357.52 90.66,-366.64 95.18,-361.29\"/>\n</g>\n<!-- 36 -->\n<g id=\"node6\" class=\"node\">\n<title>36</title>\n<path fill=\"#399de5\" stroke=\"black\" d=\"M211.5,-357.5C211.5,-357.5 140.5,-357.5 140.5,-357.5 134.5,-357.5 128.5,-351.5 128.5,-345.5 128.5,-345.5 128.5,-316.5 128.5,-316.5 128.5,-310.5 134.5,-304.5 140.5,-304.5 140.5,-304.5 211.5,-304.5 211.5,-304.5 217.5,-304.5 223.5,-310.5 223.5,-316.5 223.5,-316.5 223.5,-345.5 223.5,-345.5 223.5,-351.5 217.5,-357.5 211.5,-357.5\"/>\n<text text-anchor=\"middle\" x=\"176\" y=\"-342.3\" font-family=\"Helvetica,sans-Serif\" font-size=\"14.00\">gini = 0.0</text>\n<text text-anchor=\"middle\" x=\"176\" y=\"-327.3\" font-family=\"Helvetica,sans-Serif\" font-size=\"14.00\">samples = 1</text>\n<text text-anchor=\"middle\" x=\"176\" y=\"-312.3\" font-family=\"Helvetica,sans-Serif\" font-size=\"14.00\">value = [0, 1]</text>\n</g>\n<!-- 17&#45;&gt;36 -->\n<g id=\"edge5\" class=\"edge\">\n<title>17&#45;&gt;36</title>\n<path fill=\"none\" stroke=\"black\" d=\"M176,-400.88C176,-390.33 176,-378.6 176,-367.85\"/>\n<polygon fill=\"black\" stroke=\"black\" points=\"179.5,-367.52 176,-357.52 172.5,-367.52 179.5,-367.52\"/>\n</g>\n<!-- 29 -->\n<g id=\"node8\" class=\"node\">\n<title>29</title>\n<path fill=\"#399de5\" stroke=\"black\" d=\"M324.5,-357.5C324.5,-357.5 253.5,-357.5 253.5,-357.5 247.5,-357.5 241.5,-351.5 241.5,-345.5 241.5,-345.5 241.5,-316.5 241.5,-316.5 241.5,-310.5 247.5,-304.5 253.5,-304.5 253.5,-304.5 324.5,-304.5 324.5,-304.5 330.5,-304.5 336.5,-310.5 336.5,-316.5 336.5,-316.5 336.5,-345.5 336.5,-345.5 336.5,-351.5 330.5,-357.5 324.5,-357.5\"/>\n<text text-anchor=\"middle\" x=\"289\" y=\"-342.3\" font-family=\"Helvetica,sans-Serif\" font-size=\"14.00\">gini = 0.0</text>\n<text text-anchor=\"middle\" x=\"289\" y=\"-327.3\" font-family=\"Helvetica,sans-Serif\" font-size=\"14.00\">samples = 2</text>\n<text text-anchor=\"middle\" x=\"289\" y=\"-312.3\" font-family=\"Helvetica,sans-Serif\" font-size=\"14.00\">value = [0, 2]</text>\n</g>\n<!-- 18&#45;&gt;29 -->\n<g id=\"edge7\" class=\"edge\">\n<title>18&#45;&gt;29</title>\n<path fill=\"none\" stroke=\"black\" d=\"M334.92,-400.88C327.44,-389.67 319.08,-377.13 311.57,-365.85\"/>\n<polygon fill=\"black\" stroke=\"black\" points=\"314.47,-363.9 306.01,-357.52 308.65,-367.78 314.47,-363.9\"/>\n</g>\n<!-- 30 -->\n<g id=\"node9\" class=\"node\">\n<title>30</title>\n<path fill=\"#eb9f68\" stroke=\"black\" d=\"M453,-357.5C453,-357.5 367,-357.5 367,-357.5 361,-357.5 355,-351.5 355,-345.5 355,-345.5 355,-316.5 355,-316.5 355,-310.5 361,-304.5 367,-304.5 367,-304.5 453,-304.5 453,-304.5 459,-304.5 465,-310.5 465,-316.5 465,-316.5 465,-345.5 465,-345.5 465,-351.5 459,-357.5 453,-357.5\"/>\n<text text-anchor=\"middle\" x=\"410\" y=\"-342.3\" font-family=\"Helvetica,sans-Serif\" font-size=\"14.00\">gini = 0.31</text>\n<text text-anchor=\"middle\" x=\"410\" y=\"-327.3\" font-family=\"Helvetica,sans-Serif\" font-size=\"14.00\">samples = 73</text>\n<text text-anchor=\"middle\" x=\"410\" y=\"-312.3\" font-family=\"Helvetica,sans-Serif\" font-size=\"14.00\">value = [59, 14]</text>\n</g>\n<!-- 18&#45;&gt;30 -->\n<g id=\"edge8\" class=\"edge\">\n<title>18&#45;&gt;30</title>\n<path fill=\"none\" stroke=\"black\" d=\"M374.21,-400.88C379.92,-389.89 386.3,-377.62 392.06,-366.52\"/>\n<polygon fill=\"black\" stroke=\"black\" points=\"395.23,-368.01 396.74,-357.52 389.02,-364.78 395.23,-368.01\"/>\n</g>\n<!-- 5 -->\n<g id=\"node11\" class=\"node\">\n<title>5</title>\n<path fill=\"#eb9d65\" stroke=\"black\" d=\"M705,-469C705,-469 571,-469 571,-469 565,-469 559,-463 559,-457 559,-457 559,-413 559,-413 559,-407 565,-401 571,-401 571,-401 705,-401 705,-401 711,-401 717,-407 717,-413 717,-413 717,-457 717,-457 717,-463 711,-469 705,-469\"/>\n<text text-anchor=\"middle\" x=\"638\" y=\"-453.8\" font-family=\"Helvetica,sans-Serif\" font-size=\"14.00\">BloodPressure &lt;= 22.0</text>\n<text text-anchor=\"middle\" x=\"638\" y=\"-438.8\" font-family=\"Helvetica,sans-Serif\" font-size=\"14.00\">gini = 0.298</text>\n<text text-anchor=\"middle\" x=\"638\" y=\"-423.8\" font-family=\"Helvetica,sans-Serif\" font-size=\"14.00\">samples = 88</text>\n<text text-anchor=\"middle\" x=\"638\" y=\"-408.8\" font-family=\"Helvetica,sans-Serif\" font-size=\"14.00\">value = [72, 16]</text>\n</g>\n<!-- 4&#45;&gt;5 -->\n<g id=\"edge10\" class=\"edge\">\n<title>4&#45;&gt;5</title>\n<path fill=\"none\" stroke=\"black\" d=\"M689.32,-504.88C682.82,-496.15 675.72,-486.62 668.93,-477.51\"/>\n<polygon fill=\"black\" stroke=\"black\" points=\"671.59,-475.23 662.81,-469.3 665.98,-479.41 671.59,-475.23\"/>\n</g>\n<!-- 6 -->\n<g id=\"node14\" class=\"node\">\n<title>6</title>\n<path fill=\"#fcf2eb\" stroke=\"black\" d=\"M833,-469C833,-469 747,-469 747,-469 741,-469 735,-463 735,-457 735,-457 735,-413 735,-413 735,-407 741,-401 747,-401 747,-401 833,-401 833,-401 839,-401 845,-407 845,-413 845,-413 845,-457 845,-457 845,-463 839,-469 833,-469\"/>\n<text text-anchor=\"middle\" x=\"790\" y=\"-453.8\" font-family=\"Helvetica,sans-Serif\" font-size=\"14.00\">BMI &lt;= 26.9</text>\n<text text-anchor=\"middle\" x=\"790\" y=\"-438.8\" font-family=\"Helvetica,sans-Serif\" font-size=\"14.00\">gini = 0.499</text>\n<text text-anchor=\"middle\" x=\"790\" y=\"-423.8\" font-family=\"Helvetica,sans-Serif\" font-size=\"14.00\">samples = 110</text>\n<text text-anchor=\"middle\" x=\"790\" y=\"-408.8\" font-family=\"Helvetica,sans-Serif\" font-size=\"14.00\">value = [58, 52]</text>\n</g>\n<!-- 4&#45;&gt;6 -->\n<g id=\"edge13\" class=\"edge\">\n<title>4&#45;&gt;6</title>\n<path fill=\"none\" stroke=\"black\" d=\"M738.68,-504.88C745.18,-496.15 752.28,-486.62 759.07,-477.51\"/>\n<polygon fill=\"black\" stroke=\"black\" points=\"762.02,-479.41 765.19,-469.3 756.41,-475.23 762.02,-479.41\"/>\n</g>\n<!-- 9 -->\n<g id=\"node12\" class=\"node\">\n<title>9</title>\n<path fill=\"#399de5\" stroke=\"black\" d=\"M566.5,-357.5C566.5,-357.5 495.5,-357.5 495.5,-357.5 489.5,-357.5 483.5,-351.5 483.5,-345.5 483.5,-345.5 483.5,-316.5 483.5,-316.5 483.5,-310.5 489.5,-304.5 495.5,-304.5 495.5,-304.5 566.5,-304.5 566.5,-304.5 572.5,-304.5 578.5,-310.5 578.5,-316.5 578.5,-316.5 578.5,-345.5 578.5,-345.5 578.5,-351.5 572.5,-357.5 566.5,-357.5\"/>\n<text text-anchor=\"middle\" x=\"531\" y=\"-342.3\" font-family=\"Helvetica,sans-Serif\" font-size=\"14.00\">gini = 0.0</text>\n<text text-anchor=\"middle\" x=\"531\" y=\"-327.3\" font-family=\"Helvetica,sans-Serif\" font-size=\"14.00\">samples = 4</text>\n<text text-anchor=\"middle\" x=\"531\" y=\"-312.3\" font-family=\"Helvetica,sans-Serif\" font-size=\"14.00\">value = [0, 4]</text>\n</g>\n<!-- 5&#45;&gt;9 -->\n<g id=\"edge11\" class=\"edge\">\n<title>5&#45;&gt;9</title>\n<path fill=\"none\" stroke=\"black\" d=\"M603.26,-400.88C591.03,-389.23 577.3,-376.14 565.13,-364.53\"/>\n<polygon fill=\"black\" stroke=\"black\" points=\"567.42,-361.89 557.77,-357.52 562.59,-366.95 567.42,-361.89\"/>\n</g>\n<!-- 10 -->\n<g id=\"node13\" class=\"node\">\n<title>10</title>\n<path fill=\"#e9965a\" stroke=\"black\" d=\"M695,-357.5C695,-357.5 609,-357.5 609,-357.5 603,-357.5 597,-351.5 597,-345.5 597,-345.5 597,-316.5 597,-316.5 597,-310.5 603,-304.5 609,-304.5 609,-304.5 695,-304.5 695,-304.5 701,-304.5 707,-310.5 707,-316.5 707,-316.5 707,-345.5 707,-345.5 707,-351.5 701,-357.5 695,-357.5\"/>\n<text text-anchor=\"middle\" x=\"652\" y=\"-342.3\" font-family=\"Helvetica,sans-Serif\" font-size=\"14.00\">gini = 0.245</text>\n<text text-anchor=\"middle\" x=\"652\" y=\"-327.3\" font-family=\"Helvetica,sans-Serif\" font-size=\"14.00\">samples = 84</text>\n<text text-anchor=\"middle\" x=\"652\" y=\"-312.3\" font-family=\"Helvetica,sans-Serif\" font-size=\"14.00\">value = [72, 12]</text>\n</g>\n<!-- 5&#45;&gt;10 -->\n<g id=\"edge12\" class=\"edge\">\n<title>5&#45;&gt;10</title>\n<path fill=\"none\" stroke=\"black\" d=\"M642.55,-400.88C644.01,-390.22 645.64,-378.35 647.12,-367.52\"/>\n<polygon fill=\"black\" stroke=\"black\" points=\"650.6,-367.9 648.5,-357.52 643.67,-366.95 650.6,-367.9\"/>\n</g>\n<!-- 7 -->\n<g id=\"node15\" class=\"node\">\n<title>7</title>\n<path fill=\"#e99457\" stroke=\"black\" d=\"M815,-365C815,-365 737,-365 737,-365 731,-365 725,-359 725,-353 725,-353 725,-309 725,-309 725,-303 731,-297 737,-297 737,-297 815,-297 815,-297 821,-297 827,-303 827,-309 827,-309 827,-353 827,-353 827,-359 821,-365 815,-365\"/>\n<text text-anchor=\"middle\" x=\"776\" y=\"-349.8\" font-family=\"Helvetica,sans-Serif\" font-size=\"14.00\">BMI &lt;= 9.8</text>\n<text text-anchor=\"middle\" x=\"776\" y=\"-334.8\" font-family=\"Helvetica,sans-Serif\" font-size=\"14.00\">gini = 0.227</text>\n<text text-anchor=\"middle\" x=\"776\" y=\"-319.8\" font-family=\"Helvetica,sans-Serif\" font-size=\"14.00\">samples = 23</text>\n<text text-anchor=\"middle\" x=\"776\" y=\"-304.8\" font-family=\"Helvetica,sans-Serif\" font-size=\"14.00\">value = [20, 3]</text>\n</g>\n<!-- 6&#45;&gt;7 -->\n<g id=\"edge14\" class=\"edge\">\n<title>6&#45;&gt;7</title>\n<path fill=\"none\" stroke=\"black\" d=\"M785.45,-400.88C784.34,-392.78 783.13,-383.98 781.97,-375.47\"/>\n<polygon fill=\"black\" stroke=\"black\" points=\"785.4,-374.73 780.57,-365.3 778.46,-375.68 785.4,-374.73\"/>\n</g>\n<!-- 8 -->\n<g id=\"node18\" class=\"node\">\n<title>8</title>\n<path fill=\"#d3e9f9\" stroke=\"black\" d=\"M1070.5,-365C1070.5,-365 857.5,-365 857.5,-365 851.5,-365 845.5,-359 845.5,-353 845.5,-353 845.5,-309 845.5,-309 845.5,-303 851.5,-297 857.5,-297 857.5,-297 1070.5,-297 1070.5,-297 1076.5,-297 1082.5,-303 1082.5,-309 1082.5,-309 1082.5,-353 1082.5,-353 1082.5,-359 1076.5,-365 1070.5,-365\"/>\n<text text-anchor=\"middle\" x=\"964\" y=\"-349.8\" font-family=\"Helvetica,sans-Serif\" font-size=\"14.00\">DiabetesPedigreeFunction &lt;= 0.729</text>\n<text text-anchor=\"middle\" x=\"964\" y=\"-334.8\" font-family=\"Helvetica,sans-Serif\" font-size=\"14.00\">gini = 0.492</text>\n<text text-anchor=\"middle\" x=\"964\" y=\"-319.8\" font-family=\"Helvetica,sans-Serif\" font-size=\"14.00\">samples = 87</text>\n<text text-anchor=\"middle\" x=\"964\" y=\"-304.8\" font-family=\"Helvetica,sans-Serif\" font-size=\"14.00\">value = [38, 49]</text>\n</g>\n<!-- 6&#45;&gt;8 -->\n<g id=\"edge17\" class=\"edge\">\n<title>6&#45;&gt;8</title>\n<path fill=\"none\" stroke=\"black\" d=\"M845.05,-401.73C862.01,-391.79 880.85,-380.74 898.44,-370.43\"/>\n<polygon fill=\"black\" stroke=\"black\" points=\"900.65,-373.19 907.51,-365.12 897.11,-367.15 900.65,-373.19\"/>\n</g>\n<!-- 33 -->\n<g id=\"node16\" class=\"node\">\n<title>33</title>\n<path fill=\"#9ccef2\" stroke=\"black\" d=\"M702.5,-253.5C702.5,-253.5 631.5,-253.5 631.5,-253.5 625.5,-253.5 619.5,-247.5 619.5,-241.5 619.5,-241.5 619.5,-212.5 619.5,-212.5 619.5,-206.5 625.5,-200.5 631.5,-200.5 631.5,-200.5 702.5,-200.5 702.5,-200.5 708.5,-200.5 714.5,-206.5 714.5,-212.5 714.5,-212.5 714.5,-241.5 714.5,-241.5 714.5,-247.5 708.5,-253.5 702.5,-253.5\"/>\n<text text-anchor=\"middle\" x=\"667\" y=\"-238.3\" font-family=\"Helvetica,sans-Serif\" font-size=\"14.00\">gini = 0.444</text>\n<text text-anchor=\"middle\" x=\"667\" y=\"-223.3\" font-family=\"Helvetica,sans-Serif\" font-size=\"14.00\">samples = 3</text>\n<text text-anchor=\"middle\" x=\"667\" y=\"-208.3\" font-family=\"Helvetica,sans-Serif\" font-size=\"14.00\">value = [1, 2]</text>\n</g>\n<!-- 7&#45;&gt;33 -->\n<g id=\"edge15\" class=\"edge\">\n<title>7&#45;&gt;33</title>\n<path fill=\"none\" stroke=\"black\" d=\"M740.61,-296.88C728.15,-285.23 714.17,-272.14 701.76,-260.53\"/>\n<polygon fill=\"black\" stroke=\"black\" points=\"703.96,-257.8 694.27,-253.52 699.18,-262.91 703.96,-257.8\"/>\n</g>\n<!-- 34 -->\n<g id=\"node17\" class=\"node\">\n<title>34</title>\n<path fill=\"#e68843\" stroke=\"black\" d=\"M823,-253.5C823,-253.5 745,-253.5 745,-253.5 739,-253.5 733,-247.5 733,-241.5 733,-241.5 733,-212.5 733,-212.5 733,-206.5 739,-200.5 745,-200.5 745,-200.5 823,-200.5 823,-200.5 829,-200.5 835,-206.5 835,-212.5 835,-212.5 835,-241.5 835,-241.5 835,-247.5 829,-253.5 823,-253.5\"/>\n<text text-anchor=\"middle\" x=\"784\" y=\"-238.3\" font-family=\"Helvetica,sans-Serif\" font-size=\"14.00\">gini = 0.095</text>\n<text text-anchor=\"middle\" x=\"784\" y=\"-223.3\" font-family=\"Helvetica,sans-Serif\" font-size=\"14.00\">samples = 20</text>\n<text text-anchor=\"middle\" x=\"784\" y=\"-208.3\" font-family=\"Helvetica,sans-Serif\" font-size=\"14.00\">value = [19, 1]</text>\n</g>\n<!-- 7&#45;&gt;34 -->\n<g id=\"edge16\" class=\"edge\">\n<title>7&#45;&gt;34</title>\n<path fill=\"none\" stroke=\"black\" d=\"M778.6,-296.88C779.43,-286.22 780.36,-274.35 781.21,-263.52\"/>\n<polygon fill=\"black\" stroke=\"black\" points=\"784.71,-263.76 782,-253.52 777.73,-263.22 784.71,-263.76\"/>\n</g>\n<!-- 13 -->\n<g id=\"node19\" class=\"node\">\n<title>13</title>\n<path fill=\"#fef8f4\" stroke=\"black\" d=\"M1019,-261C1019,-261 885,-261 885,-261 879,-261 873,-255 873,-249 873,-249 873,-205 873,-205 873,-199 879,-193 885,-193 885,-193 1019,-193 1019,-193 1025,-193 1031,-199 1031,-205 1031,-205 1031,-249 1031,-249 1031,-255 1025,-261 1019,-261\"/>\n<text text-anchor=\"middle\" x=\"952\" y=\"-245.8\" font-family=\"Helvetica,sans-Serif\" font-size=\"14.00\">BloodPressure &lt;= 83.0</text>\n<text text-anchor=\"middle\" x=\"952\" y=\"-230.8\" font-family=\"Helvetica,sans-Serif\" font-size=\"14.00\">gini = 0.5</text>\n<text text-anchor=\"middle\" x=\"952\" y=\"-215.8\" font-family=\"Helvetica,sans-Serif\" font-size=\"14.00\">samples = 68</text>\n<text text-anchor=\"middle\" x=\"952\" y=\"-200.8\" font-family=\"Helvetica,sans-Serif\" font-size=\"14.00\">value = [35, 33]</text>\n</g>\n<!-- 8&#45;&gt;13 -->\n<g id=\"edge18\" class=\"edge\">\n<title>8&#45;&gt;13</title>\n<path fill=\"none\" stroke=\"black\" d=\"M960.1,-296.88C959.15,-288.78 958.12,-279.98 957.11,-271.47\"/>\n<polygon fill=\"black\" stroke=\"black\" points=\"960.56,-270.82 955.92,-261.3 953.61,-271.64 960.56,-270.82\"/>\n</g>\n<!-- 14 -->\n<g id=\"node24\" class=\"node\">\n<title>14</title>\n<path fill=\"#5eafea\" stroke=\"black\" d=\"M1143,-261C1143,-261 1065,-261 1065,-261 1059,-261 1053,-255 1053,-249 1053,-249 1053,-205 1053,-205 1053,-199 1059,-193 1065,-193 1065,-193 1143,-193 1143,-193 1149,-193 1155,-199 1155,-205 1155,-205 1155,-249 1155,-249 1155,-255 1149,-261 1143,-261\"/>\n<text text-anchor=\"middle\" x=\"1104\" y=\"-245.8\" font-family=\"Helvetica,sans-Serif\" font-size=\"14.00\">Age &lt;= 52.0</text>\n<text text-anchor=\"middle\" x=\"1104\" y=\"-230.8\" font-family=\"Helvetica,sans-Serif\" font-size=\"14.00\">gini = 0.266</text>\n<text text-anchor=\"middle\" x=\"1104\" y=\"-215.8\" font-family=\"Helvetica,sans-Serif\" font-size=\"14.00\">samples = 19</text>\n<text text-anchor=\"middle\" x=\"1104\" y=\"-200.8\" font-family=\"Helvetica,sans-Serif\" font-size=\"14.00\">value = [3, 16]</text>\n</g>\n<!-- 8&#45;&gt;14 -->\n<g id=\"edge23\" class=\"edge\">\n<title>8&#45;&gt;14</title>\n<path fill=\"none\" stroke=\"black\" d=\"M1009.45,-296.88C1022.41,-287.44 1036.66,-277.06 1050.07,-267.29\"/>\n<polygon fill=\"black\" stroke=\"black\" points=\"1052.27,-270.02 1058.29,-261.3 1048.15,-264.36 1052.27,-270.02\"/>\n</g>\n<!-- 15 -->\n<g id=\"node20\" class=\"node\">\n<title>15</title>\n<path fill=\"#b4daf5\" stroke=\"black\" d=\"M865,-149.5C865,-149.5 779,-149.5 779,-149.5 773,-149.5 767,-143.5 767,-137.5 767,-137.5 767,-108.5 767,-108.5 767,-102.5 773,-96.5 779,-96.5 779,-96.5 865,-96.5 865,-96.5 871,-96.5 877,-102.5 877,-108.5 877,-108.5 877,-137.5 877,-137.5 877,-143.5 871,-149.5 865,-149.5\"/>\n<text text-anchor=\"middle\" x=\"822\" y=\"-134.3\" font-family=\"Helvetica,sans-Serif\" font-size=\"14.00\">gini = 0.473</text>\n<text text-anchor=\"middle\" x=\"822\" y=\"-119.3\" font-family=\"Helvetica,sans-Serif\" font-size=\"14.00\">samples = 47</text>\n<text text-anchor=\"middle\" x=\"822\" y=\"-104.3\" font-family=\"Helvetica,sans-Serif\" font-size=\"14.00\">value = [18, 29]</text>\n</g>\n<!-- 13&#45;&gt;15 -->\n<g id=\"edge19\" class=\"edge\">\n<title>13&#45;&gt;15</title>\n<path fill=\"none\" stroke=\"black\" d=\"M909.79,-192.88C894.65,-181.01 877.63,-167.65 862.63,-155.88\"/>\n<polygon fill=\"black\" stroke=\"black\" points=\"864.55,-152.94 854.53,-149.52 860.23,-158.45 864.55,-152.94\"/>\n</g>\n<!-- 16 -->\n<g id=\"node21\" class=\"node\">\n<title>16</title>\n<path fill=\"#eb9f68\" stroke=\"black\" d=\"M996.5,-157C996.5,-157 907.5,-157 907.5,-157 901.5,-157 895.5,-151 895.5,-145 895.5,-145 895.5,-101 895.5,-101 895.5,-95 901.5,-89 907.5,-89 907.5,-89 996.5,-89 996.5,-89 1002.5,-89 1008.5,-95 1008.5,-101 1008.5,-101 1008.5,-145 1008.5,-145 1008.5,-151 1002.5,-157 996.5,-157\"/>\n<text text-anchor=\"middle\" x=\"952\" y=\"-141.8\" font-family=\"Helvetica,sans-Serif\" font-size=\"14.00\">Insulin &lt;= 119.0</text>\n<text text-anchor=\"middle\" x=\"952\" y=\"-126.8\" font-family=\"Helvetica,sans-Serif\" font-size=\"14.00\">gini = 0.308</text>\n<text text-anchor=\"middle\" x=\"952\" y=\"-111.8\" font-family=\"Helvetica,sans-Serif\" font-size=\"14.00\">samples = 21</text>\n<text text-anchor=\"middle\" x=\"952\" y=\"-96.8\" font-family=\"Helvetica,sans-Serif\" font-size=\"14.00\">value = [17, 4]</text>\n</g>\n<!-- 13&#45;&gt;16 -->\n<g id=\"edge20\" class=\"edge\">\n<title>13&#45;&gt;16</title>\n<path fill=\"none\" stroke=\"black\" d=\"M952,-192.88C952,-184.78 952,-175.98 952,-167.47\"/>\n<polygon fill=\"black\" stroke=\"black\" points=\"955.5,-167.3 952,-157.3 948.5,-167.3 955.5,-167.3\"/>\n</g>\n<!-- 25 -->\n<g id=\"node22\" class=\"node\">\n<title>25</title>\n<path fill=\"#e78945\" stroke=\"black\" d=\"M883,-53C883,-53 805,-53 805,-53 799,-53 793,-47 793,-41 793,-41 793,-12 793,-12 793,-6 799,0 805,0 805,0 883,0 883,0 889,0 895,-6 895,-12 895,-12 895,-41 895,-41 895,-47 889,-53 883,-53\"/>\n<text text-anchor=\"middle\" x=\"844\" y=\"-37.8\" font-family=\"Helvetica,sans-Serif\" font-size=\"14.00\">gini = 0.111</text>\n<text text-anchor=\"middle\" x=\"844\" y=\"-22.8\" font-family=\"Helvetica,sans-Serif\" font-size=\"14.00\">samples = 17</text>\n<text text-anchor=\"middle\" x=\"844\" y=\"-7.8\" font-family=\"Helvetica,sans-Serif\" font-size=\"14.00\">value = [16, 1]</text>\n</g>\n<!-- 16&#45;&gt;25 -->\n<g id=\"edge21\" class=\"edge\">\n<title>16&#45;&gt;25</title>\n<path fill=\"none\" stroke=\"black\" d=\"M914.23,-88.95C903.46,-79.53 891.74,-69.27 881.02,-59.89\"/>\n<polygon fill=\"black\" stroke=\"black\" points=\"883.24,-57.19 873.41,-53.24 878.63,-62.46 883.24,-57.19\"/>\n</g>\n<!-- 26 -->\n<g id=\"node23\" class=\"node\">\n<title>26</title>\n<path fill=\"#7bbeee\" stroke=\"black\" d=\"M996.5,-53C996.5,-53 925.5,-53 925.5,-53 919.5,-53 913.5,-47 913.5,-41 913.5,-41 913.5,-12 913.5,-12 913.5,-6 919.5,0 925.5,0 925.5,0 996.5,0 996.5,0 1002.5,0 1008.5,-6 1008.5,-12 1008.5,-12 1008.5,-41 1008.5,-41 1008.5,-47 1002.5,-53 996.5,-53\"/>\n<text text-anchor=\"middle\" x=\"961\" y=\"-37.8\" font-family=\"Helvetica,sans-Serif\" font-size=\"14.00\">gini = 0.375</text>\n<text text-anchor=\"middle\" x=\"961\" y=\"-22.8\" font-family=\"Helvetica,sans-Serif\" font-size=\"14.00\">samples = 4</text>\n<text text-anchor=\"middle\" x=\"961\" y=\"-7.8\" font-family=\"Helvetica,sans-Serif\" font-size=\"14.00\">value = [1, 3]</text>\n</g>\n<!-- 16&#45;&gt;26 -->\n<g id=\"edge22\" class=\"edge\">\n<title>16&#45;&gt;26</title>\n<path fill=\"none\" stroke=\"black\" d=\"M955.15,-88.95C955.94,-80.62 956.8,-71.65 957.6,-63.2\"/>\n<polygon fill=\"black\" stroke=\"black\" points=\"961.08,-63.52 958.55,-53.24 954.12,-62.86 961.08,-63.52\"/>\n</g>\n<!-- 23 -->\n<g id=\"node25\" class=\"node\">\n<title>23</title>\n<path fill=\"#45a3e7\" stroke=\"black\" d=\"M1169.5,-157C1169.5,-157 1038.5,-157 1038.5,-157 1032.5,-157 1026.5,-151 1026.5,-145 1026.5,-145 1026.5,-101 1026.5,-101 1026.5,-95 1032.5,-89 1038.5,-89 1038.5,-89 1169.5,-89 1169.5,-89 1175.5,-89 1181.5,-95 1181.5,-101 1181.5,-101 1181.5,-145 1181.5,-145 1181.5,-151 1175.5,-157 1169.5,-157\"/>\n<text text-anchor=\"middle\" x=\"1104\" y=\"-141.8\" font-family=\"Helvetica,sans-Serif\" font-size=\"14.00\">SkinThickness &lt;= 44.5</text>\n<text text-anchor=\"middle\" x=\"1104\" y=\"-126.8\" font-family=\"Helvetica,sans-Serif\" font-size=\"14.00\">gini = 0.111</text>\n<text text-anchor=\"middle\" x=\"1104\" y=\"-111.8\" font-family=\"Helvetica,sans-Serif\" font-size=\"14.00\">samples = 17</text>\n<text text-anchor=\"middle\" x=\"1104\" y=\"-96.8\" font-family=\"Helvetica,sans-Serif\" font-size=\"14.00\">value = [1, 16]</text>\n</g>\n<!-- 14&#45;&gt;23 -->\n<g id=\"edge24\" class=\"edge\">\n<title>14&#45;&gt;23</title>\n<path fill=\"none\" stroke=\"black\" d=\"M1104,-192.88C1104,-184.78 1104,-175.98 1104,-167.47\"/>\n<polygon fill=\"black\" stroke=\"black\" points=\"1107.5,-167.3 1104,-157.3 1100.5,-167.3 1107.5,-167.3\"/>\n</g>\n<!-- 24 -->\n<g id=\"node28\" class=\"node\">\n<title>24</title>\n<path fill=\"#e58139\" stroke=\"black\" d=\"M1282.5,-149.5C1282.5,-149.5 1211.5,-149.5 1211.5,-149.5 1205.5,-149.5 1199.5,-143.5 1199.5,-137.5 1199.5,-137.5 1199.5,-108.5 1199.5,-108.5 1199.5,-102.5 1205.5,-96.5 1211.5,-96.5 1211.5,-96.5 1282.5,-96.5 1282.5,-96.5 1288.5,-96.5 1294.5,-102.5 1294.5,-108.5 1294.5,-108.5 1294.5,-137.5 1294.5,-137.5 1294.5,-143.5 1288.5,-149.5 1282.5,-149.5\"/>\n<text text-anchor=\"middle\" x=\"1247\" y=\"-134.3\" font-family=\"Helvetica,sans-Serif\" font-size=\"14.00\">gini = 0.0</text>\n<text text-anchor=\"middle\" x=\"1247\" y=\"-119.3\" font-family=\"Helvetica,sans-Serif\" font-size=\"14.00\">samples = 2</text>\n<text text-anchor=\"middle\" x=\"1247\" y=\"-104.3\" font-family=\"Helvetica,sans-Serif\" font-size=\"14.00\">value = [2, 0]</text>\n</g>\n<!-- 14&#45;&gt;24 -->\n<g id=\"edge27\" class=\"edge\">\n<title>14&#45;&gt;24</title>\n<path fill=\"none\" stroke=\"black\" d=\"M1150.43,-192.88C1167.23,-180.9 1186.16,-167.4 1202.77,-155.55\"/>\n<polygon fill=\"black\" stroke=\"black\" points=\"1205.11,-158.18 1211.22,-149.52 1201.05,-152.48 1205.11,-158.18\"/>\n</g>\n<!-- 37 -->\n<g id=\"node26\" class=\"node\">\n<title>37</title>\n<path fill=\"#399de5\" stroke=\"black\" d=\"M1134,-53C1134,-53 1056,-53 1056,-53 1050,-53 1044,-47 1044,-41 1044,-41 1044,-12 1044,-12 1044,-6 1050,0 1056,0 1056,0 1134,0 1134,0 1140,0 1146,-6 1146,-12 1146,-12 1146,-41 1146,-41 1146,-47 1140,-53 1134,-53\"/>\n<text text-anchor=\"middle\" x=\"1095\" y=\"-37.8\" font-family=\"Helvetica,sans-Serif\" font-size=\"14.00\">gini = 0.0</text>\n<text text-anchor=\"middle\" x=\"1095\" y=\"-22.8\" font-family=\"Helvetica,sans-Serif\" font-size=\"14.00\">samples = 16</text>\n<text text-anchor=\"middle\" x=\"1095\" y=\"-7.8\" font-family=\"Helvetica,sans-Serif\" font-size=\"14.00\">value = [0, 16]</text>\n</g>\n<!-- 23&#45;&gt;37 -->\n<g id=\"edge25\" class=\"edge\">\n<title>23&#45;&gt;37</title>\n<path fill=\"none\" stroke=\"black\" d=\"M1100.85,-88.95C1100.06,-80.62 1099.2,-71.65 1098.4,-63.2\"/>\n<polygon fill=\"black\" stroke=\"black\" points=\"1101.88,-62.86 1097.45,-53.24 1094.92,-63.52 1101.88,-62.86\"/>\n</g>\n<!-- 38 -->\n<g id=\"node27\" class=\"node\">\n<title>38</title>\n<path fill=\"#e58139\" stroke=\"black\" d=\"M1247.5,-53C1247.5,-53 1176.5,-53 1176.5,-53 1170.5,-53 1164.5,-47 1164.5,-41 1164.5,-41 1164.5,-12 1164.5,-12 1164.5,-6 1170.5,0 1176.5,0 1176.5,0 1247.5,0 1247.5,0 1253.5,0 1259.5,-6 1259.5,-12 1259.5,-12 1259.5,-41 1259.5,-41 1259.5,-47 1253.5,-53 1247.5,-53\"/>\n<text text-anchor=\"middle\" x=\"1212\" y=\"-37.8\" font-family=\"Helvetica,sans-Serif\" font-size=\"14.00\">gini = 0.0</text>\n<text text-anchor=\"middle\" x=\"1212\" y=\"-22.8\" font-family=\"Helvetica,sans-Serif\" font-size=\"14.00\">samples = 1</text>\n<text text-anchor=\"middle\" x=\"1212\" y=\"-7.8\" font-family=\"Helvetica,sans-Serif\" font-size=\"14.00\">value = [1, 0]</text>\n</g>\n<!-- 23&#45;&gt;38 -->\n<g id=\"edge26\" class=\"edge\">\n<title>23&#45;&gt;38</title>\n<path fill=\"none\" stroke=\"black\" d=\"M1141.77,-88.95C1152.54,-79.53 1164.26,-69.27 1174.98,-59.89\"/>\n<polygon fill=\"black\" stroke=\"black\" points=\"1177.37,-62.46 1182.59,-53.24 1172.76,-57.19 1177.37,-62.46\"/>\n</g>\n<!-- 11 -->\n<g id=\"node30\" class=\"node\">\n<title>11</title>\n<path fill=\"#ebf5fc\" stroke=\"black\" d=\"M1240,-573C1240,-573 1154,-573 1154,-573 1148,-573 1142,-567 1142,-561 1142,-561 1142,-517 1142,-517 1142,-511 1148,-505 1154,-505 1154,-505 1240,-505 1240,-505 1246,-505 1252,-511 1252,-517 1252,-517 1252,-561 1252,-561 1252,-567 1246,-573 1240,-573\"/>\n<text text-anchor=\"middle\" x=\"1197\" y=\"-557.8\" font-family=\"Helvetica,sans-Serif\" font-size=\"14.00\">BMI &lt;= 41.65</text>\n<text text-anchor=\"middle\" x=\"1197\" y=\"-542.8\" font-family=\"Helvetica,sans-Serif\" font-size=\"14.00\">gini = 0.499</text>\n<text text-anchor=\"middle\" x=\"1197\" y=\"-527.8\" font-family=\"Helvetica,sans-Serif\" font-size=\"14.00\">samples = 38</text>\n<text text-anchor=\"middle\" x=\"1197\" y=\"-512.8\" font-family=\"Helvetica,sans-Serif\" font-size=\"14.00\">value = [18, 20]</text>\n</g>\n<!-- 2&#45;&gt;11 -->\n<g id=\"edge29\" class=\"edge\">\n<title>2&#45;&gt;11</title>\n<path fill=\"none\" stroke=\"black\" d=\"M1197,-608.88C1197,-600.78 1197,-591.98 1197,-583.47\"/>\n<polygon fill=\"black\" stroke=\"black\" points=\"1200.5,-583.3 1197,-573.3 1193.5,-583.3 1200.5,-583.3\"/>\n</g>\n<!-- 12 -->\n<g id=\"node37\" class=\"node\">\n<title>12</title>\n<path fill=\"#66b3eb\" stroke=\"black\" d=\"M1461,-573C1461,-573 1327,-573 1327,-573 1321,-573 1315,-567 1315,-561 1315,-561 1315,-517 1315,-517 1315,-511 1321,-505 1327,-505 1327,-505 1461,-505 1461,-505 1467,-505 1473,-511 1473,-517 1473,-517 1473,-561 1473,-561 1473,-567 1467,-573 1461,-573\"/>\n<text text-anchor=\"middle\" x=\"1394\" y=\"-557.8\" font-family=\"Helvetica,sans-Serif\" font-size=\"14.00\">BloodPressure &lt;= 93.0</text>\n<text text-anchor=\"middle\" x=\"1394\" y=\"-542.8\" font-family=\"Helvetica,sans-Serif\" font-size=\"14.00\">gini = 0.301</text>\n<text text-anchor=\"middle\" x=\"1394\" y=\"-527.8\" font-family=\"Helvetica,sans-Serif\" font-size=\"14.00\">samples = 76</text>\n<text text-anchor=\"middle\" x=\"1394\" y=\"-512.8\" font-family=\"Helvetica,sans-Serif\" font-size=\"14.00\">value = [14, 62]</text>\n</g>\n<!-- 2&#45;&gt;12 -->\n<g id=\"edge36\" class=\"edge\">\n<title>2&#45;&gt;12</title>\n<path fill=\"none\" stroke=\"black\" d=\"M1259.6,-609.59C1279.14,-599.47 1300.87,-588.22 1321.05,-577.77\"/>\n<polygon fill=\"black\" stroke=\"black\" points=\"1322.93,-580.74 1330.21,-573.03 1319.72,-574.52 1322.93,-580.74\"/>\n</g>\n<!-- 19 -->\n<g id=\"node31\" class=\"node\">\n<title>19</title>\n<path fill=\"#f9e3d3\" stroke=\"black\" d=\"M1195,-469C1195,-469 1109,-469 1109,-469 1103,-469 1097,-463 1097,-457 1097,-457 1097,-413 1097,-413 1097,-407 1103,-401 1109,-401 1109,-401 1195,-401 1195,-401 1201,-401 1207,-407 1207,-413 1207,-413 1207,-457 1207,-457 1207,-463 1201,-469 1195,-469\"/>\n<text text-anchor=\"middle\" x=\"1152\" y=\"-453.8\" font-family=\"Helvetica,sans-Serif\" font-size=\"14.00\">Age &lt;= 39.5</text>\n<text text-anchor=\"middle\" x=\"1152\" y=\"-438.8\" font-family=\"Helvetica,sans-Serif\" font-size=\"14.00\">gini = 0.492</text>\n<text text-anchor=\"middle\" x=\"1152\" y=\"-423.8\" font-family=\"Helvetica,sans-Serif\" font-size=\"14.00\">samples = 32</text>\n<text text-anchor=\"middle\" x=\"1152\" y=\"-408.8\" font-family=\"Helvetica,sans-Serif\" font-size=\"14.00\">value = [18, 14]</text>\n</g>\n<!-- 11&#45;&gt;19 -->\n<g id=\"edge30\" class=\"edge\">\n<title>11&#45;&gt;19</title>\n<path fill=\"none\" stroke=\"black\" d=\"M1182.39,-504.88C1178.7,-496.51 1174.68,-487.4 1170.81,-478.63\"/>\n<polygon fill=\"black\" stroke=\"black\" points=\"1173.93,-477.04 1166.69,-469.3 1167.53,-479.86 1173.93,-477.04\"/>\n</g>\n<!-- 20 -->\n<g id=\"node36\" class=\"node\">\n<title>20</title>\n<path fill=\"#399de5\" stroke=\"black\" d=\"M1308.5,-461.5C1308.5,-461.5 1237.5,-461.5 1237.5,-461.5 1231.5,-461.5 1225.5,-455.5 1225.5,-449.5 1225.5,-449.5 1225.5,-420.5 1225.5,-420.5 1225.5,-414.5 1231.5,-408.5 1237.5,-408.5 1237.5,-408.5 1308.5,-408.5 1308.5,-408.5 1314.5,-408.5 1320.5,-414.5 1320.5,-420.5 1320.5,-420.5 1320.5,-449.5 1320.5,-449.5 1320.5,-455.5 1314.5,-461.5 1308.5,-461.5\"/>\n<text text-anchor=\"middle\" x=\"1273\" y=\"-446.3\" font-family=\"Helvetica,sans-Serif\" font-size=\"14.00\">gini = 0.0</text>\n<text text-anchor=\"middle\" x=\"1273\" y=\"-431.3\" font-family=\"Helvetica,sans-Serif\" font-size=\"14.00\">samples = 6</text>\n<text text-anchor=\"middle\" x=\"1273\" y=\"-416.3\" font-family=\"Helvetica,sans-Serif\" font-size=\"14.00\">value = [0, 6]</text>\n</g>\n<!-- 11&#45;&gt;20 -->\n<g id=\"edge35\" class=\"edge\">\n<title>11&#45;&gt;20</title>\n<path fill=\"none\" stroke=\"black\" d=\"M1221.68,-504.88C1230.03,-493.67 1239.38,-481.13 1247.78,-469.85\"/>\n<polygon fill=\"black\" stroke=\"black\" points=\"1250.82,-471.63 1253.99,-461.52 1245.2,-467.45 1250.82,-471.63\"/>\n</g>\n<!-- 21 -->\n<g id=\"node32\" class=\"node\">\n<title>21</title>\n<path fill=\"#eca572\" stroke=\"black\" d=\"M1191,-357.5C1191,-357.5 1113,-357.5 1113,-357.5 1107,-357.5 1101,-351.5 1101,-345.5 1101,-345.5 1101,-316.5 1101,-316.5 1101,-310.5 1107,-304.5 1113,-304.5 1113,-304.5 1191,-304.5 1191,-304.5 1197,-304.5 1203,-310.5 1203,-316.5 1203,-316.5 1203,-345.5 1203,-345.5 1203,-351.5 1197,-357.5 1191,-357.5\"/>\n<text text-anchor=\"middle\" x=\"1152\" y=\"-342.3\" font-family=\"Helvetica,sans-Serif\" font-size=\"14.00\">gini = 0.346</text>\n<text text-anchor=\"middle\" x=\"1152\" y=\"-327.3\" font-family=\"Helvetica,sans-Serif\" font-size=\"14.00\">samples = 18</text>\n<text text-anchor=\"middle\" x=\"1152\" y=\"-312.3\" font-family=\"Helvetica,sans-Serif\" font-size=\"14.00\">value = [14, 4]</text>\n</g>\n<!-- 19&#45;&gt;21 -->\n<g id=\"edge31\" class=\"edge\">\n<title>19&#45;&gt;21</title>\n<path fill=\"none\" stroke=\"black\" d=\"M1152,-400.88C1152,-390.33 1152,-378.6 1152,-367.85\"/>\n<polygon fill=\"black\" stroke=\"black\" points=\"1155.5,-367.52 1152,-357.52 1148.5,-367.52 1155.5,-367.52\"/>\n</g>\n<!-- 22 -->\n<g id=\"node33\" class=\"node\">\n<title>22</title>\n<path fill=\"#88c4ef\" stroke=\"black\" d=\"M1446.5,-365C1446.5,-365 1233.5,-365 1233.5,-365 1227.5,-365 1221.5,-359 1221.5,-353 1221.5,-353 1221.5,-309 1221.5,-309 1221.5,-303 1227.5,-297 1233.5,-297 1233.5,-297 1446.5,-297 1446.5,-297 1452.5,-297 1458.5,-303 1458.5,-309 1458.5,-309 1458.5,-353 1458.5,-353 1458.5,-359 1452.5,-365 1446.5,-365\"/>\n<text text-anchor=\"middle\" x=\"1340\" y=\"-349.8\" font-family=\"Helvetica,sans-Serif\" font-size=\"14.00\">DiabetesPedigreeFunction &lt;= 0.251</text>\n<text text-anchor=\"middle\" x=\"1340\" y=\"-334.8\" font-family=\"Helvetica,sans-Serif\" font-size=\"14.00\">gini = 0.408</text>\n<text text-anchor=\"middle\" x=\"1340\" y=\"-319.8\" font-family=\"Helvetica,sans-Serif\" font-size=\"14.00\">samples = 14</text>\n<text text-anchor=\"middle\" x=\"1340\" y=\"-304.8\" font-family=\"Helvetica,sans-Serif\" font-size=\"14.00\">value = [4, 10]</text>\n</g>\n<!-- 19&#45;&gt;22 -->\n<g id=\"edge32\" class=\"edge\">\n<title>19&#45;&gt;22</title>\n<path fill=\"none\" stroke=\"black\" d=\"M1207.14,-404.09C1226.85,-393.39 1249.34,-381.19 1270.14,-369.9\"/>\n<polygon fill=\"black\" stroke=\"black\" points=\"1271.82,-372.97 1278.94,-365.13 1268.48,-366.82 1271.82,-372.97\"/>\n</g>\n<!-- 31 -->\n<g id=\"node34\" class=\"node\">\n<title>31</title>\n<path fill=\"#eeab7b\" stroke=\"black\" d=\"M1272.5,-253.5C1272.5,-253.5 1201.5,-253.5 1201.5,-253.5 1195.5,-253.5 1189.5,-247.5 1189.5,-241.5 1189.5,-241.5 1189.5,-212.5 1189.5,-212.5 1189.5,-206.5 1195.5,-200.5 1201.5,-200.5 1201.5,-200.5 1272.5,-200.5 1272.5,-200.5 1278.5,-200.5 1284.5,-206.5 1284.5,-212.5 1284.5,-212.5 1284.5,-241.5 1284.5,-241.5 1284.5,-247.5 1278.5,-253.5 1272.5,-253.5\"/>\n<text text-anchor=\"middle\" x=\"1237\" y=\"-238.3\" font-family=\"Helvetica,sans-Serif\" font-size=\"14.00\">gini = 0.375</text>\n<text text-anchor=\"middle\" x=\"1237\" y=\"-223.3\" font-family=\"Helvetica,sans-Serif\" font-size=\"14.00\">samples = 4</text>\n<text text-anchor=\"middle\" x=\"1237\" y=\"-208.3\" font-family=\"Helvetica,sans-Serif\" font-size=\"14.00\">value = [3, 1]</text>\n</g>\n<!-- 22&#45;&gt;31 -->\n<g id=\"edge33\" class=\"edge\">\n<title>22&#45;&gt;31</title>\n<path fill=\"none\" stroke=\"black\" d=\"M1306.56,-296.88C1294.9,-285.34 1281.82,-272.39 1270.18,-260.86\"/>\n<polygon fill=\"black\" stroke=\"black\" points=\"1272.34,-258.07 1262.77,-253.52 1267.41,-263.04 1272.34,-258.07\"/>\n</g>\n<!-- 32 -->\n<g id=\"node35\" class=\"node\">\n<title>32</title>\n<path fill=\"#4fa8e8\" stroke=\"black\" d=\"M1387.5,-253.5C1387.5,-253.5 1314.5,-253.5 1314.5,-253.5 1308.5,-253.5 1302.5,-247.5 1302.5,-241.5 1302.5,-241.5 1302.5,-212.5 1302.5,-212.5 1302.5,-206.5 1308.5,-200.5 1314.5,-200.5 1314.5,-200.5 1387.5,-200.5 1387.5,-200.5 1393.5,-200.5 1399.5,-206.5 1399.5,-212.5 1399.5,-212.5 1399.5,-241.5 1399.5,-241.5 1399.5,-247.5 1393.5,-253.5 1387.5,-253.5\"/>\n<text text-anchor=\"middle\" x=\"1351\" y=\"-238.3\" font-family=\"Helvetica,sans-Serif\" font-size=\"14.00\">gini = 0.18</text>\n<text text-anchor=\"middle\" x=\"1351\" y=\"-223.3\" font-family=\"Helvetica,sans-Serif\" font-size=\"14.00\">samples = 10</text>\n<text text-anchor=\"middle\" x=\"1351\" y=\"-208.3\" font-family=\"Helvetica,sans-Serif\" font-size=\"14.00\">value = [1, 9]</text>\n</g>\n<!-- 22&#45;&gt;32 -->\n<g id=\"edge34\" class=\"edge\">\n<title>22&#45;&gt;32</title>\n<path fill=\"none\" stroke=\"black\" d=\"M1343.57,-296.88C1344.72,-286.22 1346,-274.35 1347.17,-263.52\"/>\n<polygon fill=\"black\" stroke=\"black\" points=\"1350.66,-263.84 1348.25,-253.52 1343.7,-263.09 1350.66,-263.84\"/>\n</g>\n<!-- 27 -->\n<g id=\"node38\" class=\"node\">\n<title>27</title>\n<path fill=\"#5dafea\" stroke=\"black\" d=\"M1437,-461.5C1437,-461.5 1351,-461.5 1351,-461.5 1345,-461.5 1339,-455.5 1339,-449.5 1339,-449.5 1339,-420.5 1339,-420.5 1339,-414.5 1345,-408.5 1351,-408.5 1351,-408.5 1437,-408.5 1437,-408.5 1443,-408.5 1449,-414.5 1449,-420.5 1449,-420.5 1449,-449.5 1449,-449.5 1449,-455.5 1443,-461.5 1437,-461.5\"/>\n<text text-anchor=\"middle\" x=\"1394\" y=\"-446.3\" font-family=\"Helvetica,sans-Serif\" font-size=\"14.00\">gini = 0.259</text>\n<text text-anchor=\"middle\" x=\"1394\" y=\"-431.3\" font-family=\"Helvetica,sans-Serif\" font-size=\"14.00\">samples = 72</text>\n<text text-anchor=\"middle\" x=\"1394\" y=\"-416.3\" font-family=\"Helvetica,sans-Serif\" font-size=\"14.00\">value = [11, 61]</text>\n</g>\n<!-- 12&#45;&gt;27 -->\n<g id=\"edge37\" class=\"edge\">\n<title>12&#45;&gt;27</title>\n<path fill=\"none\" stroke=\"black\" d=\"M1394,-504.88C1394,-494.33 1394,-482.6 1394,-471.85\"/>\n<polygon fill=\"black\" stroke=\"black\" points=\"1397.5,-471.52 1394,-461.52 1390.5,-471.52 1397.5,-471.52\"/>\n</g>\n<!-- 28 -->\n<g id=\"node39\" class=\"node\">\n<title>28</title>\n<path fill=\"#eeab7b\" stroke=\"black\" d=\"M1550.5,-461.5C1550.5,-461.5 1479.5,-461.5 1479.5,-461.5 1473.5,-461.5 1467.5,-455.5 1467.5,-449.5 1467.5,-449.5 1467.5,-420.5 1467.5,-420.5 1467.5,-414.5 1473.5,-408.5 1479.5,-408.5 1479.5,-408.5 1550.5,-408.5 1550.5,-408.5 1556.5,-408.5 1562.5,-414.5 1562.5,-420.5 1562.5,-420.5 1562.5,-449.5 1562.5,-449.5 1562.5,-455.5 1556.5,-461.5 1550.5,-461.5\"/>\n<text text-anchor=\"middle\" x=\"1515\" y=\"-446.3\" font-family=\"Helvetica,sans-Serif\" font-size=\"14.00\">gini = 0.375</text>\n<text text-anchor=\"middle\" x=\"1515\" y=\"-431.3\" font-family=\"Helvetica,sans-Serif\" font-size=\"14.00\">samples = 4</text>\n<text text-anchor=\"middle\" x=\"1515\" y=\"-416.3\" font-family=\"Helvetica,sans-Serif\" font-size=\"14.00\">value = [3, 1]</text>\n</g>\n<!-- 12&#45;&gt;28 -->\n<g id=\"edge38\" class=\"edge\">\n<title>12&#45;&gt;28</title>\n<path fill=\"none\" stroke=\"black\" d=\"M1433.29,-504.88C1447.24,-493.12 1462.93,-479.89 1476.8,-468.2\"/>\n<polygon fill=\"black\" stroke=\"black\" points=\"1479.34,-470.64 1484.73,-461.52 1474.82,-465.29 1479.34,-470.64\"/>\n</g>\n</g>\n</svg>\n"
     },
     "execution_count": 6,
     "metadata": {},
     "output_type": "execute_result"
    }
   ]
  },
  {
   "cell_type": "markdown",
   "metadata": {
    "id": "OnXOMRzj4k2d",
    "colab_type": "text"
   },
   "source": [
    "We now will fit different classifier models, varying the number of splits.  We then will calculate the training and test error of each model."
   ]
  },
  {
   "cell_type": "code",
   "metadata": {
    "id": "VjrU3DUG4Kgi",
    "colab_type": "code",
    "colab": {}
   },
   "source": [
    "trainerr = []\n",
    "testerr = []\n",
    "nleaves = [2,3,4,5,6,7,8,9,10,11,12,13,14,15,20,25,30,50]\n",
    "for leaves in nleaves:\n",
    "  clf = tree.DecisionTreeClassifier(max_leaf_nodes = leaves)\n",
    "  clf.fit(traindat, trainlabs)\n",
    "\n",
    "  pred = clf.predict(traindat)\n",
    "  trainerr += [sum([pred[i] != trainlabs[i] for i in range(len(trainlabs))]) / len(trainlabs)]\n",
    "  pred = clf.predict(testdat)\n",
    "  testerr += [sum([pred[i] != testlabs[i] for i in range(len(testlabs))]) / len(testlabs)]"
   ],
   "execution_count": 7,
   "outputs": []
  },
  {
   "cell_type": "code",
   "metadata": {
    "id": "OOWTegKu4yTt",
    "colab_type": "code",
    "colab": {
     "base_uri": "https://localhost:8080/",
     "height": 281
    },
    "executionInfo": {
     "status": "ok",
     "timestamp": 1593112373124,
     "user_tz": 240,
     "elapsed": 652,
     "user": {
      "displayName": "Michael Littman",
      "photoUrl": "https://lh3.googleusercontent.com/a-/AOh14Gh1OI1zp1NevMSZ87UN47k8bTZ--Ijr4v3ORV33Vg=s64",
      "userId": "06751891446459829367"
     }
    },
    "outputId": "e04e7194-40d1-4eec-d6e6-33514c19c29f"
   },
   "source": [
    "plt.scatter(nleaves, trainerr)\n",
    "plt.plot(nleaves, trainerr, label='training error')\n",
    "plt.scatter(nleaves, testerr)\n",
    "plt.plot(nleaves, testerr, label='test error')\n",
    "plt.legend()\n",
    "plt.title('Prediction error by polynomial kernel degree')\n",
    "plt.show()"
   ],
   "execution_count": 8,
   "outputs": [
    {
     "data": {
      "text/plain": "<Figure size 432x288 with 1 Axes>",
      "image/png": "[encoded data removed]"
     },
     "metadata": {
      "needs_background": "light"
     },
     "output_type": "display_data"
    }
   ]
  },
  {
   "cell_type": "code",
   "execution_count": null,
   "outputs": [],
   "source": [],
   "metadata": {
    "collapsed": false,
    "pycharm": {
     "name": "#%%\n"
    }
   }
  }
 ]
}
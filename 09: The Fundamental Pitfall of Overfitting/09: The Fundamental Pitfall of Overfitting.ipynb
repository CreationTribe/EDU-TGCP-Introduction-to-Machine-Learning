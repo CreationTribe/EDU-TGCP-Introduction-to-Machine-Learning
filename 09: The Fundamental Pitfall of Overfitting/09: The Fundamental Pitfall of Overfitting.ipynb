{
 "cells": [
  {
   "cell_type": "markdown",
   "metadata": {
    "collapsed": true,
    "pycharm": {
     "name": "#%% md\n"
    }
   },
   "source": [
    "## Overfitting\n",
    "\n",
    "### Ideal Learning Law\n",
    "S: side of training set\n",
    "e: error on new data\n",
    "r: representational space dimensionality\n",
    "K: constant\n",
    "\n",
    "Se^2 = rK\n",
    "* if representational space is increased, then the error on new data will as well.\n",
    "* e and r are correlated variables\n",
    "* similar to ideal gas law\n",
    "\n",
    "If loss on training is about the same on loss of testing data,\n",
    "then we're doing well.\n",
    "\n",
    "* usually don't have a choice of the size of training data, so you have to compensate with tweaking the other variables\n",
    "\n",
    "Regularization - penalize for complexity\n",
    "\n",
    "Maximum Margin Classifier: When a graph of dots are being classified, maximum margin says that you need to separate dots into classes with a straight line that is as far away as possible from the dots on either side.\n",
    "\n",
    "Support Vector Machine\n",
    "\n",
    "### Two Methods to Avoid Overfitting\n",
    "- Cross-validation: (save some of your data to test on to make sure it's not overfitting and that your representational space is not too big)\n",
    "- Regularization: modify loss function to penalize both error AND representational space size"
   ]
  },
  {
   "cell_type": "markdown",
   "source": [
    "This code is pulled and copies from lecture 3\n",
    "Now we're going to tweak it :D"
   ],
   "metadata": {
    "collapsed": false
   }
  },
  {
   "cell_type": "code",
   "execution_count": 10,
   "outputs": [
    {
     "name": "stdout",
     "output_type": "stream",
     "text": [
      "WARNING: timestamping does nothing in combination with -O. See the manual\r\n",
      "for details.\r\n",
      "\r\n",
      "--2021-01-19 14:34:53--  https://raw.githubusercontent.com/plotly/datasets/master/diabetes.csv\r\n",
      "Resolving raw.githubusercontent.com (raw.githubusercontent.com)... 151.101.40.133\r\n",
      "Connecting to raw.githubusercontent.com (raw.githubusercontent.com)|151.101.40.133|:443... connected.\r\n",
      "HTTP request sent, awaiting response... 200 OK\r\n",
      "Length: 23873 (23K) [text/plain]\r\n",
      "Saving to: ‘diabetes.csv’\r\n",
      "\r\n",
      "diabetes.csv        100%[===================>]  23.31K  --.-KB/s    in 0.007s  \r\n",
      "\r\n",
      "2021-01-19 14:34:54 (3.07 MB/s) - ‘diabetes.csv’ saved [23873/23873]\r\n",
      "\r\n"
     ]
    }
   ],
   "source": [
    "# Pull word list\n",
    "# instead of going from word spelling to pronunciation\n",
    "# we're going from pronunciation to spelling\n",
    "\n",
    "from dask.dot import graphviz\n",
    "!wget https://raw.githubusercontent.com/plotly/datasets/master/diabetes.csv -NO diabetes.csv"
   ],
   "metadata": {
    "collapsed": false,
    "pycharm": {
     "name": "#%%\n"
    }
   }
  },
  {
   "cell_type": "code",
   "execution_count": 11,
   "outputs": [],
   "source": [
    "# Factors determining whether somebody has developed diabetes in the past 5 years\n",
    "\n",
    "with open(\"diabetes.csv\",\"r\") as f:\n",
    "    data = f.readlines()\n",
    "\n",
    "feats = data.pop(0)\n",
    "feats = feats.split(\",\")\n",
    "# feats = feats[0:outcome_index] # old sucky code - gunked shit up\n",
    "if 'Outcome\\n' in feats:\n",
    "    # feats.pop()\n",
    "    feats.remove('Outcome\\n')"
   ],
   "metadata": {
    "collapsed": false,
    "pycharm": {
     "name": "#%%\n"
    }
   }
  },
  {
   "cell_type": "code",
   "execution_count": 12,
   "outputs": [],
   "source": [
    "alldata = []\n",
    "alllabs = []\n",
    "\n",
    "for i in data:\n",
    "    # line = data[i]\n",
    "    # line = line.replace('\\n',' ') # don't need this either; it automatically clips the newline char\n",
    "    csvline = i.split(\",\")\n",
    "    alllabs = alllabs + [int(csvline.pop())] # instead of the bunkery below, we pop and return the label as and int\n",
    "    # labs = labs + [int(csvline[len(csvline)-1])]\n",
    "    csvline = list(map(float, csvline))\n",
    "    # csvline = [float(csvline[i]) for i in range(len(csvline)-1)]\n",
    "    alldata.append(csvline)\n",
    "    # dat = dat + [csvline]"
   ],
   "metadata": {
    "collapsed": false,
    "pycharm": {
     "name": "#%%\n"
    }
   }
  },
  {
   "cell_type": "code",
   "execution_count": 13,
   "outputs": [
    {
     "name": "stdout",
     "output_type": "stream",
     "text": [
      "768\n"
     ]
    }
   ],
   "source": [
    "print(len(alldata))"
   ],
   "metadata": {
    "collapsed": false,
    "pycharm": {
     "name": "#%%\n"
    }
   }
  },
  {
   "cell_type": "code",
   "execution_count": 14,
   "outputs": [
    {
     "name": "stdout",
     "output_type": "stream",
     "text": [
      "[7.0, 100.0, 0.0, 0.0, 0.0, 30.0, 0.484, 32.0]\n"
     ]
    }
   ],
   "source": [
    "print(alldata[15])"
   ],
   "metadata": {
    "collapsed": false,
    "pycharm": {
     "name": "#%%\n"
    }
   }
  },
  {
   "cell_type": "code",
   "execution_count": 15,
   "outputs": [],
   "source": [
    "import random as ran\n",
    "\n",
    "trainmask = [ran.randint(0,2) for i in range(len(alldata))]\n",
    "\n",
    "traindata = [alldata[i] for i in range(len(alldata)) if trainmask[i]]\n",
    "trainlabs = [alllabs[i] for i in range(len(alldata)) if trainmask[i]]\n",
    "\n",
    "testdata = [alldata[i] for i in range(len(alldata)) if not trainmask[i]]\n",
    "testlabs = [alllabs[i] for i in range(len(alldata)) if not trainmask[i]]"
   ],
   "metadata": {
    "collapsed": false,
    "pycharm": {
     "name": "#%%\n"
    }
   }
  },
  {
   "cell_type": "code",
   "execution_count": 18,
   "outputs": [],
   "source": [
    "from sklearn import svm\n",
    "\n",
    "trainerr = []\n",
    "testerr = []\n",
    "degrees = [0,1,2,3,4,5,6,7]"
   ],
   "metadata": {
    "collapsed": false,
    "pycharm": {
     "name": "#%%\n"
    }
   }
  },
  {
   "cell_type": "markdown",
   "source": [
    "# BIG NOTE:\n",
    "- the similarity function is known as the \"kernel\" (aaah, so that's what the fuck they're talking about)\n",
    "\n",
    "also, RBF = Radial Basis Function (kind of a gaussian bump around the datapoints)\n",
    "SVC = Support Vector Classification"
   ],
   "metadata": {
    "collapsed": false,
    "pycharm": {
     "name": "#%% md\n"
    }
   }
  },
  {
   "cell_type": "code",
   "execution_count": 19,
   "outputs": [],
   "source": [
    "for degree in degrees:\n",
    "    clf = svm.SVC(gamma='scale',kernel='poly',degree=degree)\n",
    "    clf.fit(traindata,trainlabs)\n",
    "\n",
    "    pred = clf.predict(traindata)\n",
    "    trainerr += [sum([pred[i] != trainlabs[i] for i in range(len(trainlabs))]) / len(trainlabs)]\n",
    "\n",
    "    pred = clf.predict(testdata)\n",
    "    testerr += [sum([pred[i] != testlabs[i] for i in range(len(testlabs))]) / len(testlabs)]\n"
   ],
   "metadata": {
    "collapsed": false,
    "pycharm": {
     "name": "#%%\n"
    }
   }
  },
  {
   "cell_type": "code",
   "execution_count": 20,
   "outputs": [
    {
     "data": {
      "text/plain": "<Figure size 432x288 with 1 Axes>",
      "image/png": "[encoded data removed]"
     },
     "metadata": {
      "needs_background": "light"
     },
     "output_type": "display_data"
    }
   ],
   "source": [
    "import matplotlib.pyplot as plt\n",
    "\n",
    "plt.scatter(degrees, trainerr)\n",
    "plt.plot(degrees, trainerr, label='Training Error')\n",
    "plt.scatter(degrees, testerr)\n",
    "plt.plot(degrees, testerr, label='Test Error')\n",
    "plt.legend()\n",
    "plt.title('Prediction error by polynomial kernel degree')\n",
    "plt.show()"
   ],
   "metadata": {
    "collapsed": false,
    "pycharm": {
     "name": "#%%\n"
    }
   }
  },
  {
   "cell_type": "code",
   "execution_count": null,
   "outputs": [],
   "source": [],
   "metadata": {
    "collapsed": false,
    "pycharm": {
     "name": "#%%\n"
    }
   }
  }
 ],
 "metadata": {
  "kernelspec": {
   "display_name": "Python 3",
   "language": "python",
   "name": "python3"
  },
  "language_info": {
   "codemirror_mode": {
    "name": "ipython",
    "version": 2
   },
   "file_extension": ".py",
   "mimetype": "text/x-python",
   "name": "python",
   "nbconvert_exporter": "python",
   "pygments_lexer": "ipython2",
   "version": "2.7.6"
  }
 },
 "nbformat": 4,
 "nbformat_minor": 0
}
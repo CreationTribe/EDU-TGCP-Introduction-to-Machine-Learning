{
 "cells": [
  {
   "cell_type": "markdown",
   "metadata": {
    "collapsed": true,
    "pycharm": {
     "name": "#%% md\n"
    }
   },
   "source": [
    "Nearest Neighbor's\n",
    "\n",
    "\"K-Nearest Neighbor\" algorithm\n",
    "![Euclidean&Square](images/EuclideanDist_and_SquareDist.png)\n",
    "![L2Norm](images/L2Norm.png)\n",
    "![Manhattan](images/ManhattanNorm.png)\n",
    "![DotProduct](images/DotProduct.png)\n",
    "\n",
    " * math.sqrt(sum([(a[i]-b[i])**2 for i in range(d)]))\n",
    "\n",
    "### Feature Engineering\n",
    "The process of measuring distances between features"
   ]
  },
  {
   "cell_type": "code",
   "execution_count": 6,
   "metadata": {
    "pycharm": {
     "name": "#%%\n"
    }
   },
   "outputs": [],
   "source": [
    "from sklearn import neighbors\n",
    "import matplotlib.pyplot as plt"
   ]
  },
  {
   "cell_type": "code",
   "execution_count": null,
   "outputs": [],
   "source": [
    "!wget https://raw.githubusercontent.com/mlittmancs/great_courses_ml/master/data/malware-test.csv\n",
    "!wget https://raw.githubusercontent.com/mlittmancs/great_courses_ml/master/data/malware-train.csv"
   ],
   "metadata": {
    "collapsed": false,
    "pycharm": {
     "name": "#%%\n",
     "is_executing": true
    }
   }
  },
  {
   "cell_type": "code",
   "execution_count": 7,
   "outputs": [],
   "source": [
    "def getdat(filename):\n",
    "    with open(filename, 'r') as f:\n",
    "        data = f.readlines()\n",
    "    dat = []\n",
    "    labs = []\n",
    "    for line in data:\n",
    "        wordline = line.split(\",\")\n",
    "        labs = labs + [wordline[0] == \"pe-malicious\"]\n",
    "        dat = dat + [[ float(wordline[i]) for i in range(1,len(wordline)) ]]\n",
    "    return dat,labs\n",
    "\n",
    "# def getdat(filename):\n",
    "#     with open(filename, \"r\") as f:\n",
    "#        data = f.readlines()\n",
    "#     dat = []\n",
    "#     labs = []\n",
    "#     for line in data:\n",
    "#         wordline = line.split(\",\")\n",
    "#         labs = labs + [wordline[0] == \"pe-malicious\"]\n",
    "#         dat = dat + [[float(wordline[i]) for i in range(1,len(wordline))]]\n",
    "#     return(dat,labs)\n",
    "# traindat, trainlabs = getdat(\"malware-train.csv\")\n",
    "# testdat, testlabs = getdat(\"malware-test.csv\")"
   ],
   "metadata": {
    "collapsed": false,
    "pycharm": {
     "name": "#%%\n"
    }
   }
  },
  {
   "cell_type": "code",
   "execution_count": 8,
   "outputs": [],
   "source": [
    "traindat, trainlabs = getdat(\"malware-train.csv\")\n",
    "testdat, testlabs = getdat(\"malware-test.csv\")"
   ],
   "metadata": {
    "collapsed": false,
    "pycharm": {
     "name": "#%%\n"
    }
   }
  },
  {
   "cell_type": "code",
   "execution_count": 9,
   "outputs": [],
   "source": [
    "def testscore(dat,labs):\n",
    "    yhats = clf.predict(dat)\n",
    "    correct = sum([yhats[i] == labs[i] for i in range(len(dat))])\n",
    "    return correct\n",
    "\n",
    "# def testscore(dat,labs):\n",
    "#     yhats = clf.predict(dat)\n",
    "#     correct = sum([yhats[i] == labs[i] for i in range(len(dat))])\n",
    "#     return(correct)"
   ],
   "metadata": {
    "collapsed": false,
    "pycharm": {
     "name": "#%%\n"
    }
   }
  },
  {
   "cell_type": "code",
   "execution_count": 10,
   "metadata": {
    "pycharm": {
     "name": "#%%\n"
    }
   },
   "outputs": [],
   "source": [
    "acc = []\n",
    "m = 4000\n",
    "for k in [1,5,7,9]:\n",
    "    clf = neighbors.KNeighborsClassifier(n_neighbors=k,metric=\"cosine\")\n",
    "    clf = clf.fit(traindat[:m],trainlabs[:m])\n",
    "    # tscore1 = testscore(traindat[:m],trainlabs[:m])/m\n",
    "    # tscore2 = testscore(testdat,testlabs)/len(testlabs)\n",
    "    acc = acc + [[k,testscore(traindat[:m],trainlabs[:m])/m,testscore(testdat,testlabs)/len(testlabs)]]\n",
    "\n",
    "# acc = []\n",
    "# m = 4000\n",
    "# for k in [1,5,7,9]:\n",
    "#     clf = neighbors.KNeighborsClassifier(n_neighbors=k,metric=\"cosine\")\n",
    "#     clf = clf.fit(traindat[:m], trainlabs[:m])\n",
    "#     acc = acc + [[k, testscore(traindat[:m],trainlabs[:m])/m, testscore(testdat,testlabs)/len(testlabs)]]"
   ]
  },
  {
   "cell_type": "code",
   "execution_count": 11,
   "outputs": [
    {
     "data": {
      "text/plain": "<Figure size 432x288 with 1 Axes>",
      "image/png": "[encoded data removed]"
     },
     "metadata": {
      "needs_background": "light"
     },
     "output_type": "display_data"
    }
   ],
   "source": [
    "# plot dependence on k\n",
    "plt.plot([v[0] for v in acc],[v[1] for v in acc],c='blue')\n",
    "plt.plot([v[0] for v in acc],[v[2] for v in acc],c='red')\n",
    "plt.title('malware')\n",
    "plt.xlabel('k')\n",
    "plt.ylabel('acc')\n",
    "plt.show()\n",
    "\n",
    "# plt.plot([v[0] for v in acc], [v[1] for v in acc], c=\"blue\")\n",
    "# plt.plot([v[0] for v in acc], [v[2] for v in acc], c=\"red\")\n",
    "# plt.title('malware')\n",
    "# plt.xlabel('k')\n",
    "# plt.ylabel('acc')\n",
    "# plt.show()"
   ],
   "metadata": {
    "collapsed": false,
    "pycharm": {
     "name": "#%%\n"
    }
   }
  },
  {
   "cell_type": "code",
   "execution_count": null,
   "outputs": [],
   "source": [],
   "metadata": {
    "collapsed": false,
    "pycharm": {
     "name": "#%%\n"
    }
   }
  }
 ],
 "metadata": {
  "kernelspec": {
   "display_name": "Python 3",
   "language": "python",
   "name": "python3"
  },
  "language_info": {
   "codemirror_mode": {
    "name": "ipython",
    "version": 3
   },
   "file_extension": ".py",
   "mimetype": "text/x-python",
   "name": "python",
   "nbconvert_exporter": "python",
   "pygments_lexer": "ipython3",
   "version": "3.8.3"
  }
 },
 "nbformat": 4,
 "nbformat_minor": 1
}
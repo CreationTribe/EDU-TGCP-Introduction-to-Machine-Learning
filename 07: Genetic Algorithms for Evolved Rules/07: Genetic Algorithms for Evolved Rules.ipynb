{
 "cells": [
  {
   "cell_type": "markdown",
   "metadata": {
    "collapsed": true,
    "pycharm": {
     "name": "#%% md\n"
    }
   },
   "source": [
    "Genetic programming (subgenre of the genetic algorithm)\n",
    "breaks a program up into a syntax tree, each node being\n",
    "a \"gene\".\n",
    "\n",
    "### Darwin's Theory of Natural Selection\n",
    " * Individual agents vary in their traits\n",
    " * Agents compete for resources; some reproduce - others don't\n",
    " * Some trait variations will increase an agent's advantage\n",
    " * Traits are passed along to offspring; sometimes with alterations\n",
    "\n",
    "* Interesting concept:\n",
    "NeuroEvolution of Augmenting Topologies (NEAT)\n",
    " * https://en.wikipedia.org/wiki/Neuroevolution_of_augmenting_topologies\n",
    " * https://www.cs.ucf.edu/~kstanley/neat.html\n",
    " * http://eplex.cs.ucf.edu/hyperNEATpage/HyperNEAT.html"
   ]
  },
  {
   "cell_type": "code",
   "execution_count": 1,
   "outputs": [],
   "source": [
    "# LINEAR / POLYNOMIAL REGRESSION\n",
    "# Finds coefficients of fixed equations\n",
    "\n",
    "# SYMBOLIC REGRESSION\n",
    "# Finds entire mathematical expression, not just the coefficients\n",
    "\n",
    "from gplearn.genetic import SymbolicRegressor\n",
    "from sklearn.ensemble import RandomForestRegressor\n",
    "from sklearn.tree import DecisionTreeRegressor\n",
    "# from sklearn.utils.random import check_random_state\n",
    "# from mpl_toolkits.mplot3d import Axes3D\n",
    "import matplotlib.pyplot as plt\n",
    "import numpy as np\n",
    "import graphviz\n",
    "\n",
    "def fitme(x):\n",
    "    # return(x*x - x + 2)\n",
    "    # return(foldfn(-x*x + x + 100,100))\n",
    "    return(0.1*x*x*x + x*x) # 1/10th x cubed + x squared\n",
    "\n",
    "# rng = check_random_state(0)\n",
    "\n",
    "x_train = np.random.uniform(-10,10,(50,1)) # 50 uniform random x's between -10 and 10\n",
    "y_train = fitme(x_train)"
   ],
   "metadata": {
    "collapsed": false,
    "pycharm": {
     "name": "#%%\n"
    }
   }
  },
  {
   "cell_type": "code",
   "execution_count": 12,
   "outputs": [
    {
     "data": {
      "text/plain": "<Figure size 432x288 with 1 Axes>",
      "image/png": "[encoded data removed]"
     },
     "metadata": {
      "needs_background": "light"
     },
     "output_type": "display_data"
    }
   ],
   "source": [
    "plt.scatter(x_train, y_train)\n",
    "plt.title(\"x\")\n",
    "plt.xlabel(\"angle\")\n",
    "plt.ylabel(\"Y\")\n",
    "plt.show()"
   ],
   "metadata": {
    "collapsed": false,
    "pycharm": {
     "name": "#%%\n"
    }
   }
  },
  {
   "cell_type": "code",
   "execution_count": 15,
   "outputs": [
    {
     "name": "stderr",
     "output_type": "stream",
     "text": [
      "/home/dkm/.anaconda3/envs/PythonEduNotebooks/lib/python3.8/site-packages/sklearn/utils/validation.py:72: DataConversionWarning: A column-vector y was passed when a 1d array was expected. Please change the shape of y to (n_samples, ), for example using ravel().\n",
      "  return f(**kwargs)\n"
     ]
    },
    {
     "data": {
      "text/plain": "SymbolicRegressor(function_set=('add', 'mul'), parsimony_coefficient=0.1,\n                  population_size=10000)"
     },
     "execution_count": 15,
     "metadata": {},
     "output_type": "execute_result"
    }
   ],
   "source": [
    "from gplearn.functions import make_function\n",
    "\n",
    "def logic(x1, x2, x3, x4):\n",
    "    return np.where(x1 > x2, x3, x4)\n",
    "\n",
    "def absfn(x1): return np.where(x1 > 0, x1, -x1)\n",
    "\n",
    "def foldfn(x1, x2): return np.where(x1 < x2, x1, 2*x2 - x1)\n",
    "\n",
    "foldgpfn = make_function(function=foldfn, name='fold', arity=2)\n",
    "\n",
    "est_gp = SymbolicRegressor(population_size=10000, parsimony_coefficient=0.1, function_set=('add','mul'))\n",
    "\n",
    "est_gp.fit(x_train, y_train)"
   ],
   "metadata": {
    "collapsed": false,
    "pycharm": {
     "name": "#%%\n"
    }
   }
  },
  {
   "cell_type": "code",
   "execution_count": 17,
   "outputs": [
    {
     "data": {
      "text/plain": "<Figure size 432x288 with 1 Axes>",
      "image/png": "[encoded data removed]"
     },
     "metadata": {
      "needs_background": "light"
     },
     "output_type": "display_data"
    }
   ],
   "source": [
    "x_lots = np.reshape(np.sort(np.random.uniform(-10,10,250)),(-1,1))\n",
    "\n",
    "y_gp = est_gp.predict(x_lots)\n",
    "\n",
    "plt.scatter(x_train, y_train)\n",
    "plt.plot(x_lots,y_gp)\n",
    "plt.title(\"Target Distance\")\n",
    "plt.xlabel(\"angle\")\n",
    "plt.ylabel(\"distance\")\n",
    "plt.show()"
   ],
   "metadata": {
    "collapsed": false,
    "pycharm": {
     "name": "#%%\n"
    }
   }
  },
  {
   "cell_type": "code",
   "execution_count": null,
   "outputs": [],
   "source": [],
   "metadata": {
    "collapsed": false,
    "pycharm": {
     "name": "#%%\n"
    }
   }
  }
 ],
 "metadata": {
  "kernelspec": {
   "display_name": "Python 3",
   "language": "python",
   "name": "python3"
  },
  "language_info": {
   "codemirror_mode": {
    "name": "ipython",
    "version": 2
   },
   "file_extension": ".py",
   "mimetype": "text/x-python",
   "name": "python",
   "nbconvert_exporter": "python",
   "pygments_lexer": "ipython2",
   "version": "2.7.6"
  }
 },
 "nbformat": 4,
 "nbformat_minor": 0
}
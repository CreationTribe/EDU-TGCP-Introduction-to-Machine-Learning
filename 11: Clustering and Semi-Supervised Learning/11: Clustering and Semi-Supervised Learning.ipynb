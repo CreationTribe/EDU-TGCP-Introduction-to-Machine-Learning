{
 "cells": [
  {
   "cell_type": "markdown",
   "metadata": {
    "collapsed": true,
    "pycharm": {
     "name": "#%% md\n"
    }
   },
   "source": [
    "# SEMI-SUPERVISED LEARNING\n",
    "## clustering\n",
    "Good clustering involves\n",
    "* Scale Invariance: clusters remain the same before and after zoom operation\n",
    "* Consistency: remain consistent if individual clusters are compressed and in between space is stretched\n",
    "* Richness: some arrangements cluster it all together, others cluster each point separately\n",
    "\n",
    "BUT - no clustering algorithm can provide all three of these properties\n",
    "\n",
    "K-MEANS algorithm:\n",
    "* is stochastic\n",
    "* produces compact groups\n",
    "\n",
    "K-Means alternates between two steps:\n",
    "1. reassign data point to its center\n",
    "2. recompute center for each cluster\n",
    "\n",
    "K-Means steps can only be alternated so many times before it can't optimize any more\n",
    "y\n",
    "* Active Learning Algorithms: can request their own labels\n",
    "\n",
    "K-Means is an \"Active, Semi-Supervised, Learning Algorithm\"\n",
    "\n",
    "Multi-Task Learning: single input and multiple tasks for outputs.\n",
    "* if all tasks are relevant to the input, ie: task1 recognizes landscape, task2 looks for animals, task3 does some other shit.\n",
    "\n"
   ]
  },
  {
   "cell_type": "code",
   "execution_count": 2,
   "outputs": [],
   "source": [
    "import numpy as np\n",
    "\n",
    "def assign_data(data,centers):\n",
    "    n = len(data)       # number of data points\n",
    "    d = len(data[0])    # dimensionality of dpoints\n",
    "    k = len(centers)    # num of clusters\n",
    "\n",
    "    # subtract set of centers from each dpoint\n",
    "    res = np.reshape(data,(1,n,d))-np.reshape(centers,(k,1,d))\n",
    "    res2 = np.add.reduce(res**2,2) # sum squared diff\n",
    "    centerids = np.apply_along_axis(np.argmin,0,res2) # assign dpoints to closest center\n",
    "    loss = sum(np.apply_along_axis(np.min,0,res2)) # note the loss\n",
    "\n",
    "    return centerids,loss"
   ],
   "metadata": {
    "collapsed": false,
    "pycharm": {
     "name": "#%%\n"
    }
   }
  },
  {
   "cell_type": "code",
   "execution_count": 3,
   "outputs": [],
   "source": [
    "def compute_means(data, centerids, k):\n",
    "  n = len(data)         # num of data points\n",
    "  d = len(data[0])      # dpoints dimensionality\n",
    "\n",
    "  centers = np.zeros(shape=(k,d)) # zero out centers\n",
    "\n",
    "  # loop through clusters\n",
    "  for i in range(k):\n",
    "    # Gather the data points from cluster i\n",
    "    cols = np.array([data[j] for j in range(n) if centerids[j] == i])\n",
    "\n",
    "    if len(cols) == 0:\n",
    "      centers[i] = data[np.random.randint(0,n-1)] # cluster mean from averaging\n",
    "    else:\n",
    "      centers[i] = cols.mean(0)\n",
    "  return centers"
   ],
   "metadata": {
    "collapsed": false,
    "pycharm": {
     "name": "#%%\n"
    }
   }
  },
  {
   "cell_type": "code",
   "execution_count": 3,
   "outputs": [],
   "source": [
    "def kmeans(data, k):\n",
    "  n = len(data)\n",
    "  d = len(data[0])\n",
    "\n",
    "  # get centers from random points\n",
    "  centers = data[[random.randint(0,n-1) for _ in range(k)]]\n",
    "  oldloss = 0\n",
    "  loss = 1\n",
    "\n",
    "  # loop until loss stops changing\n",
    "  while oldloss != loss:\n",
    "    oldloss = loss\n",
    "    centerids, loss = assign_data(data,centers)\n",
    "    centers = compute_means(data, centerids, k)\n",
    "  return(centers, loss)"
   ],
   "metadata": {
    "collapsed": false,
    "pycharm": {
     "name": "#%%\n"
    }
   }
  },
  {
   "cell_type": "code",
   "execution_count": null,
   "outputs": [],
   "source": [
    "\n",
    "\n",
    "\n",
    "\n",
    "\n",
    "\n",
    "\n",
    "\n",
    "\n",
    "\n",
    "\n",
    "\n"
   ],
   "metadata": {
    "collapsed": false,
    "pycharm": {
     "name": "#%%\n"
    }
   }
  },
  {
   "cell_type": "markdown",
   "source": [
    "We will download the MNIST dataset and split the data into training data, `X_train` and `y_train` and test data, `X_test` and `y_test`."
   ],
   "metadata": {
    "collapsed": false
   }
  },
  {
   "cell_type": "code",
   "execution_count": null,
   "outputs": [],
   "source": [
    "from sklearn.datasets import fetch_openml\n",
    "data = fetch_openml(name='mnist_784')\n",
    "\n",
    "import numpy as np\n",
    "from sklearn.model_selection import train_test_split\n",
    "X_train, X_test, y_train, y_test = train_test_split(data.data, data.target, test_size=0.1)\n",
    "X_train, X_test, y_train, y_test = train_test_split(X_test, y_test, test_size=0.33)\n",
    "len(X_train)"
   ],
   "metadata": {
    "collapsed": false,
    "pycharm": {
     "name": "#%%\n"
    }
   }
  },
  {
   "cell_type": "markdown",
   "source": [
    "Here, we run `kmeans` on our `X_train` data where `k=10`.  We run `kmeans` 9 times and record the `bestcenters` which have the `bestloss` among the recorded losses.  We then find the accuracy of these new centers on the test set."
   ],
   "metadata": {
    "collapsed": false
   }
  },
  {
   "cell_type": "code",
   "execution_count": null,
   "outputs": [],
   "source": [
    "from scipy import stats\n",
    "import math\n",
    "from functools import reduce\n",
    "import random\n",
    "\n",
    "#for nlabeled in range(20,len(X_train),10):\n",
    "nlabeled = 20\n",
    "if True:\n",
    "  print(nlabeled)\n",
    "  ans = []\n",
    "  k = 10 # 2 # 5 # 20\n",
    "  if True:\n",
    "    bestcenters, bestloss = kmeans(X_train, k)\n",
    "    for rep in range(9):\n",
    "      centers, loss = kmeans(X_train, k)\n",
    "      if loss < bestloss: bestcenters, bestloss = centers, loss\n",
    "    # How do we test the clustering that was discovered?\n",
    "    # Assign testing points to clusters\n",
    "    test_centerids, loss = assign_data(X_test, bestcenters)\n",
    "\n",
    "    # Use the labeled examples to label the clusters\n",
    "    train_centerids, loss = assign_data(X_train[:nlabeled], bestcenters)\n",
    "    #print(train_centerids)\n",
    "    #print(y_train[:nlabeled])\n",
    "    labs = y_train[:nlabeled]\n",
    "\n",
    "#    clust_labs = np.zeros(shape=(k))\n",
    "    clust_labs = np.repeat(labs[0],k)\n",
    "    for i in range(k):\n",
    "      mode = stats.mode(labs[train_centerids == i]).mode\n",
    "      if len(mode) > 0: clust_labs[i] = mode[0]\n",
    "\n",
    "# print(clust_labs)\n",
    "    ans = ans + [(k,sum(clust_labs[test_centerids] == y_test)/len(y_test))]\n",
    "#    plt.plot(X_test[clust_labs[test_centerids] == 0,0],X_test[clust_labs[test_centerids] == 0,1],'o',color='r')\n",
    "#    plt.plot(X_test[clust_labs[test_centerids] == 1,0],X_test[clust_labs[test_centerids] == 1,1],'o',color='b')\n",
    "#    plt.show()\n",
    "\n",
    "#  print(ans)\n",
    "  print(reduce((lambda x, y: x if x[1] > y[1] else y), ans))\n",
    "  labids, loss = assign_data(X_test, X_train[:nlabeled])\n",
    "  print(nlabeled, sum(y_train[labids] == y_test)/len(y_test))"
   ],
   "metadata": {
    "collapsed": false,
    "pycharm": {
     "name": "#%%\n"
    }
   }
  },
  {
   "cell_type": "markdown",
   "source": [
    "We'll next print the images that best represent the centers of each of our clusters in K-means and the label for each of the clusters\n",
    "\n",
    "We will also calcuate the percent accuracy of the clusters"
   ],
   "metadata": {
    "collapsed": false
   }
  },
  {
   "cell_type": "code",
   "execution_count": null,
   "outputs": [],
   "source": [
    "!pip install keras=='2.3.1'\n",
    "from keras.preprocessing.image import array_to_img\n",
    "\n",
    "train_centerids, loss = assign_data(X_train, bestcenters)\n",
    "test_centerids, loss = assign_data(X_test, bestcenters)\n",
    "\n",
    "clust_labs = np.repeat(labs[0],k)\n",
    "for i in range(len(bestcenters)):\n",
    "  display(array_to_img(np.reshape(bestcenters[i],(28,28,1)), scale=False))\n",
    "  clust_labs[i] = y_train[train_centerids == i][0]\n",
    "  print(clust_labs[i])\n",
    "#  mode = stats.mode(y_train[train_centerids == i]).mode\n",
    "#  print(mode[0])\n",
    "#  if len(mode) > 0: clust_labs[i] = mode[0]\n",
    "\n",
    "sum(clust_labs[test_centerids] == y_test)/len(y_test)"
   ],
   "metadata": {
    "collapsed": false,
    "pycharm": {
     "name": "#%%\n"
    }
   }
  },
  {
   "cell_type": "markdown",
   "source": [
    "Finally, we'll rewrite the K-means model as an active learning problem and perform semi-supervised clustering of the data"
   ],
   "metadata": {
    "collapsed": false
   }
  },
  {
   "cell_type": "code",
   "execution_count": null,
   "outputs": [],
   "source": [
    "from scipy import stats\n",
    "import math\n",
    "from functools import reduce\n",
    "\n",
    "# ACTIVE LEARNING VERSION\n",
    "\n",
    "#for nlabeled in range(20,len(X_train),10):\n",
    "nlabeled = 10\n",
    "if True:\n",
    "  ans = []\n",
    "  k = 50 # 10 # 2 # 5 # 20\n",
    "  if True:\n",
    "#  for k in range(10,200,50):\n",
    "    bestcenters, bestloss = kmeans(X_train, k)\n",
    "    for rep in range(9):\n",
    "      centers, loss = kmeans(X_train, k)\n",
    "      if loss < bestloss: bestcenters, bestloss = centers, loss\n",
    "    # How do we test the clustering that was discovered?\n",
    "    # Assign testing points to clusters\n",
    "    test_centerids, loss = assign_data(X_test, bestcenters)\n",
    "\n",
    "    # Let's label one example in each category\n",
    "    train_centerids, loss = assign_data(X_train, bestcenters)\n",
    "\n",
    "    clust_labs = np.repeat(labs[0],k)\n",
    "    for i in range(len(bestcenters)):\n",
    "      clust_labs[i] = y_train[train_centerids == i][0]\n",
    "\n",
    "    # semi-supervised clustering\n",
    "    print(k,sum(clust_labs[test_centerids] == y_test)/len(y_test))\n",
    "\n",
    "    # nearest neighbors\n",
    "    labids, loss = assign_data(X_test, X_train[:k])\n",
    "    print(k, sum(y_train[labids] == y_test)/len(y_test))"
   ],
   "metadata": {
    "collapsed": false,
    "pycharm": {
     "name": "#%%\n"
    }
   }
  },
  {
   "cell_type": "code",
   "execution_count": null,
   "outputs": [],
   "source": [
    "\n",
    "\n",
    "\n",
    "\n",
    "\n"
   ],
   "metadata": {
    "collapsed": false,
    "pycharm": {
     "name": "#%%\n"
    }
   }
  }
 ],
 "metadata": {
  "kernelspec": {
   "display_name": "Python 3",
   "language": "python",
   "name": "python3"
  },
  "language_info": {
   "codemirror_mode": {
    "name": "ipython",
    "version": 2
   },
   "file_extension": ".py",
   "mimetype": "text/x-python",
   "name": "python",
   "nbconvert_exporter": "python",
   "pygments_lexer": "ipython2",
   "version": "2.7.6"
  }
 },
 "nbformat": 4,
 "nbformat_minor": 0
}
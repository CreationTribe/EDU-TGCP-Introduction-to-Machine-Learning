{
 "cells": [
  {
   "cell_type": "markdown",
   "source": [
    "### Tree Structures\n",
    "Classification Trees: category-based\n",
    "Regression Trees: numerical in nature\n",
    "CART (decision trees): Classification And Regression Trees\n",
    "\n",
    "EX: \"I before E except after C\" Truth analysis\n",
    "\n",
    "~500 words in the net_talk database with ie or ei\n",
    "143 ei words\n",
    "357 ie words\n",
    "\n",
    "First draw a node to break into:\n",
    "ie or ei comes after 'c', and those that don't\n",
    "\n",
    "Gini Index:: Creating weight for decision tree result\n",
    "x = fraction of positive labels\n",
    "1/2 = maximum impure value\n",
    "resulting value is: 0 to 0.5\n",
    "Gini(x) = 1/2 - 2(x-1/2)<sup>2</sup>\n",
    "\n",
    "ie:"
   ],
   "metadata": {
    "collapsed": false,
    "pycharm": {
     "name": "#%% md\n"
    }
   }
  },
  {
   "cell_type": "code",
   "execution_count": 1,
   "metadata": {
    "collapsed": true
   },
   "outputs": [
    {
     "name": "stdout",
     "output_type": "stream",
     "text": [
      "WARNING: timestamping does nothing in combination with -O. See the manual\r\n",
      "for details.\r\n",
      "\r\n",
      "--2021-01-15 13:30:30--  https://raw.githubusercontent.com/plotly/datasets/master/diabetes.csv\r\n",
      "Resolving raw.githubusercontent.com (raw.githubusercontent.com)... 151.101.40.133\r\n",
      "Connecting to raw.githubusercontent.com (raw.githubusercontent.com)|151.101.40.133|:443... connected.\r\n",
      "HTTP request sent, awaiting response... 200 OK\r\n",
      "Length: 23873 (23K) [text/plain]\r\n",
      "Saving to: ‘diabetes.csv’\r\n",
      "\r\n",
      "diabetes.csv        100%[===================>]  23.31K  --.-KB/s    in 0.005s  \r\n",
      "\r\n",
      "2021-01-15 13:30:31 (4.81 MB/s) - ‘diabetes.csv’ saved [23873/23873]\r\n",
      "\r\n"
     ]
    }
   ],
   "source": [
    "# Pull word list\n",
    "# instead of going from word spelling to pronunciation\n",
    "# we're going from pronunciation to spelling\n",
    "\n",
    "from dask.dot import graphviz\n",
    "!wget https://raw.githubusercontent.com/plotly/datasets/master/diabetes.csv -NO diabetes.csv"
   ]
  },
  {
   "cell_type": "code",
   "execution_count": 65,
   "outputs": [],
   "source": [
    "# Factors determining whether somebody has developed diabetes in the past 5 years\n",
    "\n",
    "with open(\"diabetes.csv\",\"r\") as f:\n",
    "    data = f.readlines()\n",
    "\n",
    "feats = data.pop(0)\n",
    "feats = feats.split(\",\")\n",
    "# feats = feats[0:outcome_index] # old sucky code - gunked shit up\n",
    "if 'Outcome\\n' in feats:\n",
    "    # feats.pop()\n",
    "    feats.remove('Outcome\\n')"
   ],
   "metadata": {
    "collapsed": false,
    "pycharm": {
     "name": "#%%\n"
    }
   }
  },
  {
   "cell_type": "code",
   "execution_count": 66,
   "outputs": [],
   "source": [
    "dat = []\n",
    "labs = []\n",
    "\n",
    "for i in data:\n",
    "    # line = data[i]\n",
    "    # line = line.replace('\\n',' ') # don't need this either; it automatically clips the newline char\n",
    "    csvline = i.split(\",\")\n",
    "    labs = labs + [int(csvline.pop())] # instead of the bunkery below, we pop and return the label as and int\n",
    "    # labs = labs + [int(csvline[len(csvline)-1])]\n",
    "    csvline = list(map(float, csvline))\n",
    "    # csvline = [float(csvline[i]) for i in range(len(csvline)-1)]\n",
    "    dat.append(csvline)\n",
    "    # dat = dat + [csvline]"
   ],
   "metadata": {
    "collapsed": false,
    "pycharm": {
     "name": "#%%\n"
    }
   }
  },
  {
   "cell_type": "code",
   "execution_count": 69,
   "outputs": [
    {
     "name": "stdout",
     "output_type": "stream",
     "text": [
      "768\n"
     ]
    }
   ],
   "source": [
    "print(len(dat))"
   ],
   "metadata": {
    "collapsed": false,
    "pycharm": {
     "name": "#%%\n"
    }
   }
  },
  {
   "cell_type": "code",
   "execution_count": 70,
   "outputs": [
    {
     "name": "stdout",
     "output_type": "stream",
     "text": [
      "[7.0, 100.0, 0.0, 0.0, 0.0, 30.0, 0.484, 32.0]\n"
     ]
    }
   ],
   "source": [
    "print(dat[15])"
   ],
   "metadata": {
    "collapsed": false,
    "pycharm": {
     "name": "#%%\n"
    }
   }
  },
  {
   "cell_type": "code",
   "execution_count": 74,
   "outputs": [],
   "source": [
    "from sklearn import tree\n",
    "\n",
    "# alldat = dat\n",
    "# alllabs = labs\n",
    "\n",
    "clf = tree.DecisionTreeClassifier(max_leaf_nodes=5)\n",
    "clf = clf.fit(dat,labs)"
   ],
   "metadata": {
    "collapsed": false,
    "pycharm": {
     "name": "#%%\n"
    }
   }
  },
  {
   "cell_type": "code",
   "execution_count": 75,
   "outputs": [
    {
     "data": {
      "text/plain": "77.21354166666667"
     },
     "execution_count": 75,
     "metadata": {},
     "output_type": "execute_result"
    }
   ],
   "source": [
    "correct = 0\n",
    "lendat = len(dat)\n",
    "for i in range(lendat):\n",
    "    if clf.predict([dat[i]]) == labs[i]: correct = correct+1\n",
    "100.0*correct/lendat"
   ],
   "metadata": {
    "collapsed": false,
    "pycharm": {
     "name": "#%%\n"
    }
   }
  },
  {
   "cell_type": "code",
   "execution_count": 76,
   "outputs": [
    {
     "data": {
      "text/plain": "<graphviz.files.Source at 0x7f92b0aaceb0>",
      "image/svg+xml": "<?xml version=\"1.0\" encoding=\"UTF-8\" standalone=\"no\"?>\n<!DOCTYPE svg PUBLIC \"-//W3C//DTD SVG 1.1//EN\"\n \"http://www.w3.org/Graphics/SVG/1.1/DTD/svg11.dtd\">\n<!-- Generated by graphviz version 2.42.3 (20191010.1750)\n -->\n<!-- Title: Tree Pages: 1 -->\n<svg width=\"527pt\" height=\"373pt\"\n viewBox=\"0.00 0.00 527.00 373.00\" xmlns=\"http://www.w3.org/2000/svg\" xmlns:xlink=\"http://www.w3.org/1999/xlink\">\n<g id=\"graph0\" class=\"graph\" transform=\"scale(1 1) rotate(0) translate(4 369)\">\n<title>Tree</title>\n<polygon fill=\"white\" stroke=\"transparent\" points=\"-4,4 -4,-369 523,-369 523,4 -4,4\"/>\n<!-- 0 -->\n<g id=\"node1\" class=\"node\">\n<title>0</title>\n<path fill=\"#f3c5a3\" stroke=\"black\" d=\"M311,-365C311,-365 210,-365 210,-365 204,-365 198,-359 198,-353 198,-353 198,-309 198,-309 198,-303 204,-297 210,-297 210,-297 311,-297 311,-297 317,-297 323,-303 323,-309 323,-309 323,-353 323,-353 323,-359 317,-365 311,-365\"/>\n<text text-anchor=\"middle\" x=\"260.5\" y=\"-349.8\" font-family=\"Helvetica,sans-Serif\" font-size=\"14.00\">Glucose &lt;= 127.5</text>\n<text text-anchor=\"middle\" x=\"260.5\" y=\"-334.8\" font-family=\"Helvetica,sans-Serif\" font-size=\"14.00\">gini = 0.454</text>\n<text text-anchor=\"middle\" x=\"260.5\" y=\"-319.8\" font-family=\"Helvetica,sans-Serif\" font-size=\"14.00\">samples = 768</text>\n<text text-anchor=\"middle\" x=\"260.5\" y=\"-304.8\" font-family=\"Helvetica,sans-Serif\" font-size=\"14.00\">value = [500, 268]</text>\n</g>\n<!-- 1 -->\n<g id=\"node2\" class=\"node\">\n<title>1</title>\n<path fill=\"#eb9f69\" stroke=\"black\" d=\"M238,-261C238,-261 145,-261 145,-261 139,-261 133,-255 133,-249 133,-249 133,-205 133,-205 133,-199 139,-193 145,-193 145,-193 238,-193 238,-193 244,-193 250,-199 250,-205 250,-205 250,-249 250,-249 250,-255 244,-261 238,-261\"/>\n<text text-anchor=\"middle\" x=\"191.5\" y=\"-245.8\" font-family=\"Helvetica,sans-Serif\" font-size=\"14.00\">Age &lt;= 28.5</text>\n<text text-anchor=\"middle\" x=\"191.5\" y=\"-230.8\" font-family=\"Helvetica,sans-Serif\" font-size=\"14.00\">gini = 0.313</text>\n<text text-anchor=\"middle\" x=\"191.5\" y=\"-215.8\" font-family=\"Helvetica,sans-Serif\" font-size=\"14.00\">samples = 485</text>\n<text text-anchor=\"middle\" x=\"191.5\" y=\"-200.8\" font-family=\"Helvetica,sans-Serif\" font-size=\"14.00\">value = [391, 94]</text>\n</g>\n<!-- 0&#45;&gt;1 -->\n<g id=\"edge1\" class=\"edge\">\n<title>0&#45;&gt;1</title>\n<path fill=\"none\" stroke=\"black\" d=\"M238.1,-296.88C232.25,-288.24 225.88,-278.82 219.77,-269.79\"/>\n<polygon fill=\"black\" stroke=\"black\" points=\"222.53,-267.62 214.03,-261.3 216.73,-271.54 222.53,-267.62\"/>\n<text text-anchor=\"middle\" x=\"209.29\" y=\"-282.15\" font-family=\"Helvetica,sans-Serif\" font-size=\"14.00\">True</text>\n</g>\n<!-- 2 -->\n<g id=\"node7\" class=\"node\">\n<title>2</title>\n<path fill=\"#b5daf5\" stroke=\"black\" d=\"M381,-261C381,-261 280,-261 280,-261 274,-261 268,-255 268,-249 268,-249 268,-205 268,-205 268,-199 274,-193 280,-193 280,-193 381,-193 381,-193 387,-193 393,-199 393,-205 393,-205 393,-249 393,-249 393,-255 387,-261 381,-261\"/>\n<text text-anchor=\"middle\" x=\"330.5\" y=\"-245.8\" font-family=\"Helvetica,sans-Serif\" font-size=\"14.00\">BMI &lt;= 29.95</text>\n<text text-anchor=\"middle\" x=\"330.5\" y=\"-230.8\" font-family=\"Helvetica,sans-Serif\" font-size=\"14.00\">gini = 0.474</text>\n<text text-anchor=\"middle\" x=\"330.5\" y=\"-215.8\" font-family=\"Helvetica,sans-Serif\" font-size=\"14.00\">samples = 283</text>\n<text text-anchor=\"middle\" x=\"330.5\" y=\"-200.8\" font-family=\"Helvetica,sans-Serif\" font-size=\"14.00\">value = [109, 174]</text>\n</g>\n<!-- 0&#45;&gt;2 -->\n<g id=\"edge6\" class=\"edge\">\n<title>0&#45;&gt;2</title>\n<path fill=\"none\" stroke=\"black\" d=\"M283.23,-296.88C289.16,-288.24 295.62,-278.82 301.82,-269.79\"/>\n<polygon fill=\"black\" stroke=\"black\" points=\"304.87,-271.52 307.65,-261.3 299.1,-267.56 304.87,-271.52\"/>\n<text text-anchor=\"middle\" x=\"312.22\" y=\"-282.18\" font-family=\"Helvetica,sans-Serif\" font-size=\"14.00\">False</text>\n</g>\n<!-- 5 -->\n<g id=\"node3\" class=\"node\">\n<title>5</title>\n<path fill=\"#e78d4b\" stroke=\"black\" d=\"M105,-149.5C105,-149.5 12,-149.5 12,-149.5 6,-149.5 0,-143.5 0,-137.5 0,-137.5 0,-108.5 0,-108.5 0,-102.5 6,-96.5 12,-96.5 12,-96.5 105,-96.5 105,-96.5 111,-96.5 117,-102.5 117,-108.5 117,-108.5 117,-137.5 117,-137.5 117,-143.5 111,-149.5 105,-149.5\"/>\n<text text-anchor=\"middle\" x=\"58.5\" y=\"-134.3\" font-family=\"Helvetica,sans-Serif\" font-size=\"14.00\">gini = 0.155</text>\n<text text-anchor=\"middle\" x=\"58.5\" y=\"-119.3\" font-family=\"Helvetica,sans-Serif\" font-size=\"14.00\">samples = 271</text>\n<text text-anchor=\"middle\" x=\"58.5\" y=\"-104.3\" font-family=\"Helvetica,sans-Serif\" font-size=\"14.00\">value = [248, 23]</text>\n</g>\n<!-- 1&#45;&gt;5 -->\n<g id=\"edge2\" class=\"edge\">\n<title>1&#45;&gt;5</title>\n<path fill=\"none\" stroke=\"black\" d=\"M148.32,-192.88C132.83,-181.01 115.41,-167.65 100.06,-155.88\"/>\n<polygon fill=\"black\" stroke=\"black\" points=\"101.84,-152.83 91.78,-149.52 97.58,-158.38 101.84,-152.83\"/>\n</g>\n<!-- 6 -->\n<g id=\"node4\" class=\"node\">\n<title>6</title>\n<path fill=\"#f2c09b\" stroke=\"black\" d=\"M240,-157C240,-157 147,-157 147,-157 141,-157 135,-151 135,-145 135,-145 135,-101 135,-101 135,-95 141,-89 147,-89 147,-89 240,-89 240,-89 246,-89 252,-95 252,-101 252,-101 252,-145 252,-145 252,-151 246,-157 240,-157\"/>\n<text text-anchor=\"middle\" x=\"193.5\" y=\"-141.8\" font-family=\"Helvetica,sans-Serif\" font-size=\"14.00\">BMI &lt;= 26.35</text>\n<text text-anchor=\"middle\" x=\"193.5\" y=\"-126.8\" font-family=\"Helvetica,sans-Serif\" font-size=\"14.00\">gini = 0.443</text>\n<text text-anchor=\"middle\" x=\"193.5\" y=\"-111.8\" font-family=\"Helvetica,sans-Serif\" font-size=\"14.00\">samples = 214</text>\n<text text-anchor=\"middle\" x=\"193.5\" y=\"-96.8\" font-family=\"Helvetica,sans-Serif\" font-size=\"14.00\">value = [143, 71]</text>\n</g>\n<!-- 1&#45;&gt;6 -->\n<g id=\"edge3\" class=\"edge\">\n<title>1&#45;&gt;6</title>\n<path fill=\"none\" stroke=\"black\" d=\"M192.15,-192.88C192.31,-184.78 192.48,-175.98 192.65,-167.47\"/>\n<polygon fill=\"black\" stroke=\"black\" points=\"196.15,-167.37 192.85,-157.3 189.15,-167.23 196.15,-167.37\"/>\n</g>\n<!-- 7 -->\n<g id=\"node5\" class=\"node\">\n<title>7</title>\n<path fill=\"#e68743\" stroke=\"black\" d=\"M168.5,-53C168.5,-53 90.5,-53 90.5,-53 84.5,-53 78.5,-47 78.5,-41 78.5,-41 78.5,-12 78.5,-12 78.5,-6 84.5,0 90.5,0 90.5,0 168.5,0 168.5,0 174.5,0 180.5,-6 180.5,-12 180.5,-12 180.5,-41 180.5,-41 180.5,-47 174.5,-53 168.5,-53\"/>\n<text text-anchor=\"middle\" x=\"129.5\" y=\"-37.8\" font-family=\"Helvetica,sans-Serif\" font-size=\"14.00\">gini = 0.093</text>\n<text text-anchor=\"middle\" x=\"129.5\" y=\"-22.8\" font-family=\"Helvetica,sans-Serif\" font-size=\"14.00\">samples = 41</text>\n<text text-anchor=\"middle\" x=\"129.5\" y=\"-7.8\" font-family=\"Helvetica,sans-Serif\" font-size=\"14.00\">value = [39, 2]</text>\n</g>\n<!-- 6&#45;&gt;7 -->\n<g id=\"edge4\" class=\"edge\">\n<title>6&#45;&gt;7</title>\n<path fill=\"none\" stroke=\"black\" d=\"M171.12,-88.95C165.11,-80.07 158.6,-70.46 152.55,-61.54\"/>\n<polygon fill=\"black\" stroke=\"black\" points=\"155.44,-59.55 146.93,-53.24 149.64,-63.48 155.44,-59.55\"/>\n</g>\n<!-- 8 -->\n<g id=\"node6\" class=\"node\">\n<title>8</title>\n<path fill=\"#f6d5bc\" stroke=\"black\" d=\"M304,-53C304,-53 211,-53 211,-53 205,-53 199,-47 199,-41 199,-41 199,-12 199,-12 199,-6 205,0 211,0 211,0 304,0 304,0 310,0 316,-6 316,-12 316,-12 316,-41 316,-41 316,-47 310,-53 304,-53\"/>\n<text text-anchor=\"middle\" x=\"257.5\" y=\"-37.8\" font-family=\"Helvetica,sans-Serif\" font-size=\"14.00\">gini = 0.48</text>\n<text text-anchor=\"middle\" x=\"257.5\" y=\"-22.8\" font-family=\"Helvetica,sans-Serif\" font-size=\"14.00\">samples = 173</text>\n<text text-anchor=\"middle\" x=\"257.5\" y=\"-7.8\" font-family=\"Helvetica,sans-Serif\" font-size=\"14.00\">value = [104, 69]</text>\n</g>\n<!-- 6&#45;&gt;8 -->\n<g id=\"edge5\" class=\"edge\">\n<title>6&#45;&gt;8</title>\n<path fill=\"none\" stroke=\"black\" d=\"M215.88,-88.95C221.89,-80.07 228.4,-70.46 234.45,-61.54\"/>\n<polygon fill=\"black\" stroke=\"black\" points=\"237.36,-63.48 240.07,-53.24 231.56,-59.55 237.36,-63.48\"/>\n</g>\n<!-- 3 -->\n<g id=\"node8\" class=\"node\">\n<title>3</title>\n<path fill=\"#f1bb94\" stroke=\"black\" d=\"M371.5,-149.5C371.5,-149.5 285.5,-149.5 285.5,-149.5 279.5,-149.5 273.5,-143.5 273.5,-137.5 273.5,-137.5 273.5,-108.5 273.5,-108.5 273.5,-102.5 279.5,-96.5 285.5,-96.5 285.5,-96.5 371.5,-96.5 371.5,-96.5 377.5,-96.5 383.5,-102.5 383.5,-108.5 383.5,-108.5 383.5,-137.5 383.5,-137.5 383.5,-143.5 377.5,-149.5 371.5,-149.5\"/>\n<text text-anchor=\"middle\" x=\"328.5\" y=\"-134.3\" font-family=\"Helvetica,sans-Serif\" font-size=\"14.00\">gini = 0.432</text>\n<text text-anchor=\"middle\" x=\"328.5\" y=\"-119.3\" font-family=\"Helvetica,sans-Serif\" font-size=\"14.00\">samples = 76</text>\n<text text-anchor=\"middle\" x=\"328.5\" y=\"-104.3\" font-family=\"Helvetica,sans-Serif\" font-size=\"14.00\">value = [52, 24]</text>\n</g>\n<!-- 2&#45;&gt;3 -->\n<g id=\"edge7\" class=\"edge\">\n<title>2&#45;&gt;3</title>\n<path fill=\"none\" stroke=\"black\" d=\"M329.85,-192.88C329.64,-182.22 329.41,-170.35 329.2,-159.52\"/>\n<polygon fill=\"black\" stroke=\"black\" points=\"332.7,-159.45 329,-149.52 325.7,-159.59 332.7,-159.45\"/>\n</g>\n<!-- 4 -->\n<g id=\"node9\" class=\"node\">\n<title>4</title>\n<path fill=\"#84c2ef\" stroke=\"black\" d=\"M507,-149.5C507,-149.5 414,-149.5 414,-149.5 408,-149.5 402,-143.5 402,-137.5 402,-137.5 402,-108.5 402,-108.5 402,-102.5 408,-96.5 414,-96.5 414,-96.5 507,-96.5 507,-96.5 513,-96.5 519,-102.5 519,-108.5 519,-108.5 519,-137.5 519,-137.5 519,-143.5 513,-149.5 507,-149.5\"/>\n<text text-anchor=\"middle\" x=\"460.5\" y=\"-134.3\" font-family=\"Helvetica,sans-Serif\" font-size=\"14.00\">gini = 0.399</text>\n<text text-anchor=\"middle\" x=\"460.5\" y=\"-119.3\" font-family=\"Helvetica,sans-Serif\" font-size=\"14.00\">samples = 207</text>\n<text text-anchor=\"middle\" x=\"460.5\" y=\"-104.3\" font-family=\"Helvetica,sans-Serif\" font-size=\"14.00\">value = [57, 150]</text>\n</g>\n<!-- 2&#45;&gt;4 -->\n<g id=\"edge8\" class=\"edge\">\n<title>2&#45;&gt;4</title>\n<path fill=\"none\" stroke=\"black\" d=\"M372.71,-192.88C387.85,-181.01 404.87,-167.65 419.87,-155.88\"/>\n<polygon fill=\"black\" stroke=\"black\" points=\"422.27,-158.45 427.97,-149.52 417.95,-152.94 422.27,-158.45\"/>\n</g>\n</g>\n</svg>\n"
     },
     "execution_count": 76,
     "metadata": {},
     "output_type": "execute_result"
    }
   ],
   "source": [
    "import graphviz\n",
    "dot_data = tree.export_graphviz(clf, feature_names=feats, filled=True, rounded=True)\n",
    "graph = graphviz.Source(dot_data)\n",
    "graph\n"
   ],
   "metadata": {
    "collapsed": false,
    "pycharm": {
     "name": "#%%\n"
    }
   }
  },
  {
   "cell_type": "markdown",
   "source": [
    "\n",
    "Ex Null\n",
    "Ex Nil\n",
    "Ex Not\n",
    "Ex Nihil\n",
    "Ex Naught"
   ],
   "metadata": {
    "collapsed": false,
    "pycharm": {
     "name": "#%% md\n"
    }
   }
  }
 ],
 "metadata": {
  "kernelspec": {
   "display_name": "Python 3",
   "language": "python",
   "name": "python3"
  },
  "language_info": {
   "codemirror_mode": {
    "name": "ipython",
    "version": 2
   },
   "file_extension": ".py",
   "mimetype": "text/x-python",
   "name": "python",
   "nbconvert_exporter": "python",
   "pygments_lexer": "ipython2",
   "version": "2.7.6"
  }
 },
 "nbformat": 4,
 "nbformat_minor": 0
}
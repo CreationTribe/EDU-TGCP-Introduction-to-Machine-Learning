{
 "cells": [
  {
   "cell_type": "code",
   "execution_count": 2,
   "outputs": [
    {
     "name": "stdout",
     "output_type": "stream",
     "text": [
      "--2021-01-21 12:38:46--  https://github.com/mlittmancs/great_courses_ml/raw/master/data/ship.csv\r\n",
      "Resolving github.com (github.com)... 192.30.255.112\r\n",
      "Connecting to github.com (github.com)|192.30.255.112|:443... connected.\r\n",
      "HTTP request sent, awaiting response... 302 Found\r\n",
      "Location: https://raw.githubusercontent.com/mlittmancs/great_courses_ml/master/data/ship.csv [following]\r\n",
      "--2021-01-21 12:38:47--  https://raw.githubusercontent.com/mlittmancs/great_courses_ml/master/data/ship.csv\r\n",
      "Resolving raw.githubusercontent.com (raw.githubusercontent.com)... 151.101.40.133\r\n",
      "Connecting to raw.githubusercontent.com (raw.githubusercontent.com)|151.101.40.133|:443... connected.\r\n",
      "HTTP request sent, awaiting response... 200 OK\r\n",
      "Length: 61194 (60K) [text/plain]\r\n",
      "Saving to: ‘ship.csv’\r\n",
      "\r\n",
      "ship.csv            100%[===================>]  59.76K  --.-KB/s    in 0.05s   \r\n",
      "\r\n",
      "2021-01-21 12:38:48 (1.26 MB/s) - ‘ship.csv’ saved [61194/61194]\r\n",
      "\r\n"
     ]
    }
   ],
   "source": [
    "!wget https://github.com/mlittmancs/great_courses_ml/raw/master/data/ship.csv"
   ],
   "metadata": {
    "collapsed": false,
    "pycharm": {
     "name": "#%%\n"
    }
   }
  },
  {
   "cell_type": "code",
   "execution_count": 3,
   "metadata": {
    "collapsed": true
   },
   "outputs": [],
   "source": [
    "import csv\n",
    "\n",
    "first = True\n",
    "with open('ship.csv') as f:\n",
    "    csvdata = csv.reader(f, delimiter=',')\n",
    "    data = []\n",
    "    for row in csvdata:\n",
    "        if not first: data += [row]\n",
    "        first = False\n",
    "\n",
    "array = []\n",
    "for col in range(len(data[0])):\n",
    "    array += [{}]\n",
    "    new = 0\n",
    "    for i in range(len(data)):\n",
    "        line = data[i]\n",
    "        if line[col] not in array[col]:\n",
    "            array[col][line[col]] = new\n",
    "            new += 1\n",
    "\n",
    "alldata = []\n",
    "alllabs = []\n",
    "for line in data:\n",
    "    alllabs += [int(line[1])]\n",
    "    if line[5] == '': line[5] = '50'\n",
    "    alldata += [[int(line[2]), array[4][line[4]], float(line[5]), int(line[6]), int(line[7]), float(line[9]), line[11]=='S', line[11]=='C', line[11]=='Q']]\n",
    "feats = ['Pclass','Sex','Age','SibSp','Parch','Fare','Embarked S','Embarked C','Embarked Q']"
   ]
  },
  {
   "cell_type": "code",
   "execution_count": 4,
   "outputs": [],
   "source": [
    "import random\n",
    "\n",
    "trainmask = [random.randint(0,2) for i in range(len(alldata))]\n",
    "\n",
    "traindata   = [alldata[i] for i in range(len(alldata)) if trainmask[i]<2]\n",
    "trainlabs   = [alllabs[i] for i in range(len(alldata)) if trainmask[i]<2]\n",
    "testdata    = [alldata[i] for i in range(len(alldata)) if trainmask[i]==2]\n",
    "testlabs    = [alllabs[i] for i in range(len(alldata)) if trainmask[i]==2]"
   ],
   "metadata": {
    "collapsed": false,
    "pycharm": {
     "name": "#%%\n"
    }
   }
  },
  {
   "cell_type": "code",
   "execution_count": 5,
   "outputs": [
    {
     "data": {
      "text/plain": "[0.21710526315789475]"
     },
     "execution_count": 5,
     "metadata": {},
     "output_type": "execute_result"
    }
   ],
   "source": [
    "from sklearn.neural_network import MLPClassifier\n",
    "\n",
    "nhidden = 60\n",
    "clf = MLPClassifier(hidden_layer_sizes=[nhidden],max_iter=50000)\n",
    "clf = clf.fit(traindata,trainlabs)\n",
    "pred = clf.predict(testdata)\n",
    "[sum([pred[i] != testlabs[i] for i in range(len(testlabs))]) / len(testlabs)]"
   ],
   "metadata": {
    "collapsed": false,
    "pycharm": {
     "name": "#%%\n"
    }
   }
  },
  {
   "cell_type": "code",
   "execution_count": null,
   "outputs": [],
   "source": [
    "\n"
   ],
   "metadata": {
    "collapsed": false,
    "pycharm": {
     "name": "#%%\n"
    }
   }
  },
  {
   "cell_type": "code",
   "execution_count": 6,
   "outputs": [
    {
     "name": "stdout",
     "output_type": "stream",
     "text": [
      "0.46844429683301314\n"
     ]
    }
   ],
   "source": [
    "# feats = ['Pclass','Sex','Age','SibSp','Parch','Fare','Embarked S','Embarked C','Embarked Q']\n",
    "\n",
    "imp = []\n",
    "for v in alldata:\n",
    "    real = v[1]\n",
    "    v[1] = 0\n",
    "    asmale = clf.predict_proba([v])[0][1]\n",
    "    v[1] = 1\n",
    "    asfemale = clf.predict_proba([v])[0][1]\n",
    "    v[1] = real\n",
    "    imp += [asfemale-asmale]\n",
    "\n",
    "print(sum(imp)/len(imp))"
   ],
   "metadata": {
    "collapsed": false,
    "pycharm": {
     "name": "#%%\n"
    }
   }
  },
  {
   "cell_type": "code",
   "execution_count": 7,
   "outputs": [
    {
     "name": "stdout",
     "output_type": "stream",
     "text": [
      "0.17546848381601363 0.23026315789473684\n"
     ]
    }
   ],
   "source": [
    "from sklearn.linear_model import LogisticRegression\n",
    "\n",
    "clf = LogisticRegression(max_iter=500)\n",
    "clf.fit(traindata,trainlabs)\n",
    "\n",
    "pred = clf.predict(traindata)\n",
    "trainerr = sum([pred[i] != trainlabs[i] for i in range(len(trainlabs))]) / len(trainlabs)\n",
    "pred = clf.predict(testdata)\n",
    "testerr = sum([pred[i] != testlabs[i] for i in range(len(testlabs))]) / len(testlabs)\n",
    "\n",
    "print(trainerr, testerr)"
   ],
   "metadata": {
    "collapsed": false,
    "pycharm": {
     "name": "#%%\n"
    }
   }
  },
  {
   "cell_type": "markdown",
   "source": [
    "### Logistic Regression:\n",
    "A one-layered NN equivalent to sigmoid activation\n",
    "* one weight per input feature\n",
    "* output activations computed by transforming weighted sum with sigmoid function"
   ],
   "metadata": {
    "collapsed": false,
    "pycharm": {
     "name": "#%% md\n"
    }
   }
  },
  {
   "cell_type": "code",
   "execution_count": 8,
   "outputs": [
    {
     "name": "stdout",
     "output_type": "stream",
     "text": [
      "Pclass -0.9376646133933938\n",
      "Sex 2.6501970315282786\n",
      "Age -0.026270890610032602\n",
      "SibSp -0.2734282576527669\n",
      "Parch -0.004343020664387434\n",
      "Fare 0.0020327021766925117\n",
      "Embarked S -0.5039976276625564\n",
      "Embarked C 0.15301992315134014\n",
      "Embarked Q 0.1613244985004878\n"
     ]
    }
   ],
   "source": [
    "for i in range(len(feats)):\n",
    "    print(feats[i],clf.coef_[0][i])"
   ],
   "metadata": {
    "collapsed": false,
    "pycharm": {
     "name": "#%%\n"
    }
   }
  },
  {
   "cell_type": "markdown",
   "source": [
    "### Proxy Measure:\n",
    "a variable that's closely tied to the desired variable (ie: zipcode and income) which can sometimes\n",
    "be used as a substitute in certain measurements."
   ],
   "metadata": {
    "collapsed": false
   }
  },
  {
   "cell_type": "code",
   "execution_count": null,
   "outputs": [],
   "source": [],
   "metadata": {
    "collapsed": false,
    "pycharm": {
     "name": "#%%\n"
    }
   }
  }
 ],
 "metadata": {
  "kernelspec": {
   "display_name": "Python 3",
   "language": "python",
   "name": "python3"
  },
  "language_info": {
   "codemirror_mode": {
    "name": "ipython",
    "version": 2
   },
   "file_extension": ".py",
   "mimetype": "text/x-python",
   "name": "python",
   "nbconvert_exporter": "python",
   "pygments_lexer": "ipython2",
   "version": "2.7.6"
  }
 },
 "nbformat": 4,
 "nbformat_minor": 0
}
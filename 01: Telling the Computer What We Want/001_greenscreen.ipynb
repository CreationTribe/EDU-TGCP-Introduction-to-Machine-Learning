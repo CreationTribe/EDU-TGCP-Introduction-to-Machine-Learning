{
 "cells": [
  {
   "cell_type": "markdown",
   "source": [
    "\"5 Schools of ML\"\n",
    "ML Problems & Key Algorithms\n",
    "\n",
    "Prob.                   Alg.\n",
    "- - - - - - - - - - - - - - - - - - - - - - - -\n",
    "Reasoning w/ symbols    Decision trees\n",
    "perceptual info         NN (perceptron, deep NN)\n",
    "uncertainty             Bayesian networks (probablistic outcomes)\n",
    "disc. new structures    Genetic algos\n",
    "exploiting similarity   Nearest neighbor\n",
    "\n",
    "\n",
    "Loss Function: Defines objective to be minimized in\n",
    "    respect to the data. ie: mistakes made on\n",
    "    a collection of data.\n",
    "\n",
    "* any representational space (the box in which the ML alg. is \"thinking\" in) has some generality but also restrictions\n",
    "\n",
    "1. Represent (Representational Space): Learner is generating candidate rules\n",
    "2. Evaluate (Loss Function on Data): Loss Function scores the rules based on input vs. output\n",
    "3. Select (Optimizer): Optimizer selects the best available scores from the space of candidate rules\n",
    "\n",
    "... so ...\n",
    "\n",
    "Machine Learning Recipe:\n",
    "1. Choose a Representational Space\n",
    "2. Design a Loss Function\n",
    "3. Run an Optimizer\n",
    "\n",
    "* ML turns data into rules instead of traditional programming which turns rules into function - or, essentially - data.\n"
   ],
   "metadata": {
    "collapsed": false,
    "pycharm": {
     "name": "#%% md\n"
    }
   }
  },
  {
   "cell_type": "markdown",
   "source": [
    "EX1: Navigation App (best route from A to B)\n",
    "* RepSpace: each possible rule takes the form of a specific route\n",
    "    * representational space = all possible routes\n",
    "* loss function = metric for scoring possible routes:\n",
    "    * estimated time of route ... or ...\n",
    "    * estimated distance of route ... or ...\n",
    "    * estimated cost of route ... or ...\n",
    "    * estimated gas usage of route"
   ],
   "metadata": {
    "collapsed": false
   }
  },
  {
   "cell_type": "markdown",
   "source": [
    "EX2: Play Poker\n",
    "* RepSpace: permitted ways to play based on game rules\n",
    "    * representational space = all possible hands\n",
    "* LossFunction: expected dollars won (but negated because \"loss\")"
   ],
   "metadata": {
    "collapsed": false,
    "pycharm": {
     "name": "#%% md\n"
    }
   }
  },
  {
   "cell_type": "code",
   "execution_count": 1,
   "metadata": {
    "collapsed": true
   },
   "outputs": [],
   "source": [
    "# PSEUDO CODE / NOT INTENDED TO BE RUN\n",
    "# generated rule should cause test() to evaluate to True for pos_set values\n",
    "# and cause test() to evaluate to False for neg_set values\n",
    "\n",
    "def compute_loss(test_val, generated_diff_rule, pos_set, neg_set):\n",
    "    loss = 0\n",
    "\n",
    "    for sample_val in pos_set:\n",
    "        # if NOT what expected by label, add a loss\n",
    "        if test(test_val, sample_val) > generated_diff_rule: loss += 1\n",
    "\n",
    "    for sample_val in neg_set:\n",
    "        # if NOT what expected by label, add a loss\n",
    "        if test(test_val, sample_val) <= generated_diff_rule: loss += 1\n",
    "\n",
    "    return loss"
   ]
  },
  {
   "cell_type": "markdown",
   "source": [
    "* Traditional Programming (imperative): tell computer what to do\n",
    "* Machine Learning (declarative): tell computer what to like"
   ],
   "metadata": {
    "collapsed": false
   }
  },
  {
   "cell_type": "markdown",
   "source": [
    "### Four Subcategories/Methods of Machine Learning\n",
    "\n",
    "* Supervised Learning: Giving the algorithm input and associated output or \"labels\" to train with.\n",
    "* Unsupervised Learning: Allowing the system to come up with its own categories via \"clustering\" or \"dimension reduction\".\n",
    "* Semi-Supervised Learning: Providing a limited amount of example data (labels) to help get it going\n",
    "* Reinforcement Learning (quasi-supervised): Provides reward systems or goals which serve as feedback"
   ],
   "metadata": {
    "collapsed": false,
    "pycharm": {
     "name": "#%% md\n"
    }
   }
  },
  {
   "cell_type": "markdown",
   "source": [
    "Got City?\n",
    "(a temporary plan for economic relief)\n",
    "\n",
    "Twisting The Knife in Our Own Back (Economic Responses to C-19)\n",
    "\n",
    "Candidate Cities Wanted"
   ],
   "metadata": {
    "collapsed": false
   }
  },
  {
   "cell_type": "code",
   "execution_count": null,
   "outputs": [],
   "source": [],
   "metadata": {
    "collapsed": false,
    "pycharm": {
     "name": "#%%\n"
    }
   }
  }
 ],
 "metadata": {
  "kernelspec": {
   "display_name": "Python 3",
   "language": "python",
   "name": "python3"
  },
  "language_info": {
   "codemirror_mode": {
    "name": "ipython",
    "version": 2
   },
   "file_extension": ".py",
   "mimetype": "text/x-python",
   "name": "python",
   "nbconvert_exporter": "python",
   "pygments_lexer": "ipython2",
   "version": "2.7.6"
  }
 },
 "nbformat": 4,
 "nbformat_minor": 0
}